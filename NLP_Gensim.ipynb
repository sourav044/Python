{
  "nbformat": 4,
  "nbformat_minor": 0,
  "metadata": {
    "colab": {
      "name": "Gensim.ipynb",
      "provenance": [],
      "collapsed_sections": [],
      "include_colab_link": true
    },
    "kernelspec": {
      "name": "python3",
      "display_name": "Python 3"
    },
    "accelerator": "GPU"
  },
  "cells": [
    {
      "cell_type": "markdown",
      "metadata": {
        "id": "view-in-github",
        "colab_type": "text"
      },
      "source": [
        "<a href=\"https://colab.research.google.com/github/sourav044/Python/blob/master/NLP_Gensim.ipynb\" target=\"_parent\"><img src=\"https://colab.research.google.com/assets/colab-badge.svg\" alt=\"Open In Colab\"/></a>"
      ]
    },
    {
      "cell_type": "markdown",
      "metadata": {
        "id": "Icx7s2j-xIfC",
        "colab_type": "text"
      },
      "source": [
        "**Notebook is created to demostrated concepts related to NPL.** \n",
        "\n",
        "Exploring Gensim, Spacy, Keras implementing Seq2Seq and LSTM backend tensorflow."
      ]
    },
    {
      "cell_type": "markdown",
      "metadata": {
        "id": "ZrUK8sE60cam",
        "colab_type": "text"
      },
      "source": [
        "\n",
        "\n",
        "\n",
        "\n",
        "Installing packages "
      ]
    },
    {
      "cell_type": "code",
      "metadata": {
        "id": "JYWx19Daz9hN",
        "colab_type": "code",
        "outputId": "77b467fa-b2ef-4565-a845-4c80c7e4d10e",
        "colab": {
          "base_uri": "https://localhost:8080/",
          "height": 349
        }
      },
      "source": [
        "!pip install PyPDF2\n",
        "!pip install wordsegment\n",
        "!pip install pip install py-thesaurus"
      ],
      "execution_count": 1,
      "outputs": [
        {
          "output_type": "stream",
          "text": [
            "Collecting PyPDF2\n",
            "\u001b[?25l  Downloading https://files.pythonhosted.org/packages/b4/01/68fcc0d43daf4c6bdbc6b33cc3f77bda531c86b174cac56ef0ffdb96faab/PyPDF2-1.26.0.tar.gz (77kB)\n",
            "\u001b[K     |████████████████████████████████| 81kB 2.5MB/s \n",
            "\u001b[?25hBuilding wheels for collected packages: PyPDF2\n",
            "  Building wheel for PyPDF2 (setup.py) ... \u001b[?25l\u001b[?25hdone\n",
            "  Created wheel for PyPDF2: filename=PyPDF2-1.26.0-cp36-none-any.whl size=61085 sha256=fbf3e908997f3b17d75536afa9bcfc14d121c8027c78b4df1555e133d6905a21\n",
            "  Stored in directory: /root/.cache/pip/wheels/53/84/19/35bc977c8bf5f0c23a8a011aa958acd4da4bbd7a229315c1b7\n",
            "Successfully built PyPDF2\n",
            "Installing collected packages: PyPDF2\n",
            "Successfully installed PyPDF2-1.26.0\n",
            "Collecting wordsegment\n",
            "\u001b[?25l  Downloading https://files.pythonhosted.org/packages/cf/6c/e6f4734d6f7d28305f52ec81377d7ce7d1856b97b814278e9960183235ad/wordsegment-1.3.1-py2.py3-none-any.whl (4.8MB)\n",
            "\u001b[K     |████████████████████████████████| 4.8MB 2.8MB/s \n",
            "\u001b[?25hInstalling collected packages: wordsegment\n",
            "Successfully installed wordsegment-1.3.1\n",
            "Requirement already satisfied: pip in /usr/local/lib/python3.6/dist-packages (19.3.1)\n",
            "\u001b[31mERROR: Could not find a version that satisfies the requirement install (from versions: none)\u001b[0m\n",
            "\u001b[31mERROR: No matching distribution found for install\u001b[0m\n"
          ],
          "name": "stdout"
        }
      ]
    },
    {
      "cell_type": "markdown",
      "metadata": {
        "id": "6-DtU-751AEN",
        "colab_type": "text"
      },
      "source": [
        "Imporing all packages "
      ]
    },
    {
      "cell_type": "code",
      "metadata": {
        "id": "wUTaLTnazoAp",
        "colab_type": "code",
        "colab": {
          "base_uri": "https://localhost:8080/",
          "height": 136
        },
        "outputId": "1d1e2b1b-0e8e-4523-fbf2-daf92532503c"
      },
      "source": [
        "import nltk\n",
        "import spacy\n",
        "import PyPDF2\n",
        "import keras\n",
        "import tensorflow as tf\n",
        "import gensim\n",
        "import numpy as np\n",
        "import re\n",
        "import spacy\n",
        "from nltk.corpus import stopwords\n",
        "from gensim.test.utils import common_texts\n",
        "from gensim.models import Word2Vec\n",
        "from gensim.similarities import WmdSimilarity\n",
        "from nltk.tokenize import sent_tokenize\n",
        "from nltk.tokenize import sent_tokenize\n",
        "from keras.preprocessing.text import Tokenizer \n",
        "from gensim.test.utils import common_texts\n",
        "from gensim.models import Word2Vec\n",
        "from gensim.similarities import WmdSimilarity\n",
        "from collections import Counter\n",
        "from nltk.corpus import wordnet\n",
        "from gensim.corpora import Dictionary\n",
        "from wordsegment import load, segment\n",
        "from numpy import array\n",
        "from keras.preprocessing.text import one_hot\n",
        "from nltk.classify import NaiveBayesClassifier\n",
        "from nltk.corpus import subjectivity\n",
        "from nltk.sentiment import SentimentAnalyzer\n",
        "from nltk.sentiment.util import *\n",
        "from nltk.sentiment.vader import SentimentIntensityAnalyzer\n",
        "from prettytable import PrettyTable\n",
        "from gensim.summarization.summarizer import summarize\n",
        "from nltk import word_tokenize, pos_tag\n",
        "from nltk.corpus import stopwords\n",
        "from collections import Counter\n",
        "from spacy import displacy\n",
        "from nltk.stem import PorterStemmer\n",
        "import spacy.cli"
      ],
      "execution_count": 2,
      "outputs": [
        {
          "output_type": "stream",
          "text": [
            "Using TensorFlow backend.\n"
          ],
          "name": "stderr"
        },
        {
          "output_type": "display_data",
          "data": {
            "text/html": [
              "<p style=\"color: red;\">\n",
              "The default version of TensorFlow in Colab will soon switch to TensorFlow 2.x.<br>\n",
              "We recommend you <a href=\"https://www.tensorflow.org/guide/migrate\" target=\"_blank\">upgrade</a> now \n",
              "or ensure your notebook will continue to use TensorFlow 1.x via the <code>%tensorflow_version 1.x</code> magic:\n",
              "<a href=\"https://colab.research.google.com/notebooks/tensorflow_version.ipynb\" target=\"_blank\">more info</a>.</p>\n"
            ],
            "text/plain": [
              "<IPython.core.display.HTML object>"
            ]
          },
          "metadata": {
            "tags": []
          }
        },
        {
          "output_type": "stream",
          "text": [
            "/usr/local/lib/python3.6/dist-packages/nltk/twitter/__init__.py:20: UserWarning: The twython library has not been installed. Some functionality from the twitter package will not be available.\n",
            "  warnings.warn(\"The twython library has not been installed. \"\n"
          ],
          "name": "stderr"
        }
      ]
    },
    {
      "cell_type": "markdown",
      "metadata": {
        "id": "eCVnD7FC1FLT",
        "colab_type": "text"
      },
      "source": [
        "Installing NLTK package"
      ]
    },
    {
      "cell_type": "code",
      "metadata": {
        "id": "FvDepd5O0H17",
        "colab_type": "code",
        "outputId": "e58002f4-d065-4946-b0f6-c24aa1958f58",
        "colab": {
          "base_uri": "https://localhost:8080/",
          "height": 208
        }
      },
      "source": [
        "nltk.download('wordnet')\n",
        "nltk.download('punkt')\n",
        "nltk.download('averaged_perceptron_tagger')\n",
        "nltk.download('stopwords') \n",
        "nltk.download('vader_lexicon')"
      ],
      "execution_count": 3,
      "outputs": [
        {
          "output_type": "stream",
          "text": [
            "[nltk_data] Downloading package wordnet to /root/nltk_data...\n",
            "[nltk_data]   Unzipping corpora/wordnet.zip.\n",
            "[nltk_data] Downloading package punkt to /root/nltk_data...\n",
            "[nltk_data]   Unzipping tokenizers/punkt.zip.\n",
            "[nltk_data] Downloading package averaged_perceptron_tagger to\n",
            "[nltk_data]     /root/nltk_data...\n",
            "[nltk_data]   Unzipping taggers/averaged_perceptron_tagger.zip.\n",
            "[nltk_data] Downloading package stopwords to /root/nltk_data...\n",
            "[nltk_data]   Unzipping corpora/stopwords.zip.\n",
            "[nltk_data] Downloading package vader_lexicon to /root/nltk_data...\n"
          ],
          "name": "stdout"
        },
        {
          "output_type": "execute_result",
          "data": {
            "text/plain": [
              "True"
            ]
          },
          "metadata": {
            "tags": []
          },
          "execution_count": 3
        }
      ]
    },
    {
      "cell_type": "markdown",
      "metadata": {
        "id": "3VUG_Iz_2v7Z",
        "colab_type": "text"
      },
      "source": [
        "Downloading and assinging laguage package : https://spacy.io/usage/models"
      ]
    },
    {
      "cell_type": "code",
      "metadata": {
        "id": "jMcU49l12p8U",
        "colab_type": "code",
        "outputId": "1f6bfea9-4a88-4d82-d669-ce41f011f167",
        "colab": {
          "base_uri": "https://localhost:8080/",
          "height": 52
        }
      },
      "source": [
        "lang = spacy.cli.download(\"en_core_web_sm\")\n",
        "nlp = spacy.load(\"en_core_web_sm\")"
      ],
      "execution_count": 4,
      "outputs": [
        {
          "output_type": "stream",
          "text": [
            "\u001b[38;5;2m✔ Download and installation successful\u001b[0m\n",
            "You can now load the model via spacy.load('en_core_web_sm')\n"
          ],
          "name": "stdout"
        }
      ]
    },
    {
      "cell_type": "markdown",
      "metadata": {
        "id": "WkATSXvI1NJE",
        "colab_type": "text"
      },
      "source": [
        "### Convert Word to Vector "
      ]
    },
    {
      "cell_type": "code",
      "metadata": {
        "id": "DjDrVlOBztX7",
        "colab_type": "code",
        "outputId": "fc23b4f0-e9f7-4acc-feb8-79c878361dc6",
        "colab": {
          "base_uri": "https://localhost:8080/",
          "height": 35
        }
      },
      "source": [
        "model = Word2Vec(common_texts, size=20, min_count=1)  # train word-vectors\n",
        "print(model)"
      ],
      "execution_count": 5,
      "outputs": [
        {
          "output_type": "stream",
          "text": [
            "Word2Vec(vocab=12, size=20, alpha=0.025)\n"
          ],
          "name": "stdout"
        }
      ]
    },
    {
      "cell_type": "code",
      "metadata": {
        "id": "oXNlVMY431pE",
        "colab_type": "code",
        "outputId": "a6f796fc-2441-4cac-9c32-aeac5372aebc",
        "colab": {
          "base_uri": "https://localhost:8080/",
          "height": 89
        }
      },
      "source": [
        "index = WmdSimilarity(common_texts, model)\n",
        "# Make query.\n",
        "query = ['human', 'interface', 'computer']\n",
        "sims = index[query]\n",
        "print(common_texts)\n",
        "print(sims)"
      ],
      "execution_count": 6,
      "outputs": [
        {
          "output_type": "stream",
          "text": [
            "[['human', 'interface', 'computer'], ['survey', 'user', 'computer', 'system', 'response', 'time'], ['eps', 'user', 'interface', 'system'], ['system', 'human', 'system', 'eps'], ['user', 'response', 'time'], ['trees'], ['graph', 'trees'], ['graph', 'minors', 'trees'], ['graph', 'minors', 'survey']]\n",
            "[1.         0.47839252 0.50898521 0.5123328  0.43032193 0.41206602\n",
            " 0.43028804 0.41284649 0.40399012]\n"
          ],
          "name": "stdout"
        }
      ]
    },
    {
      "cell_type": "markdown",
      "metadata": {
        "id": "0RRd8IPUn6WV",
        "colab_type": "text"
      },
      "source": [
        "### Defining all the method's"
      ]
    },
    {
      "cell_type": "code",
      "metadata": {
        "id": "-FVkZLUL7xmz",
        "colab_type": "code",
        "colab": {}
      },
      "source": [
        "# All methods has been imported from : https://github.com/explosion/spaCy\n",
        "\n",
        "def combine(sub_keys, keywords_splits, lb, mb, ub):\n",
        "    whitespace = ' '\n",
        "    while mb != ub:\n",
        "        keywords_splits.append(whitespace.join(sub_keys[lb: mb]))\n",
        "        keywords_splits.append(whitespace.join(sub_keys[mb: ub]))\n",
        "        mb += 1\n",
        "    del sub_keys[0]\n",
        "    if len(sub_keys) > 2:\n",
        "        combine(sub_keys, keywords_splits, 0, 1, len(sub_keys))\n",
        "\n",
        "\n",
        "def keywords_splitter(keywords, keywords_splits):\n",
        "    for key in keywords:\n",
        "        sub_keys = key.split()\n",
        "        if len(sub_keys) > 2:\n",
        "            combine(sub_keys, keywords_splits, 0, 1, len(sub_keys))\n",
        "\n",
        "\n",
        "def pre_query(question_query):\n",
        "    keywords = question_query.get_features()\n",
        "    keywords = [feat.lower() for feat in keywords]\n",
        "    whitespace = ' '\n",
        "    keywords_splits = whitespace.join(keywords).split()\n",
        "    keywords_splitter(keywords, keywords_splits)\n",
        "    keywords_splits = list(set(keywords_splits + keywords))\n",
        "    return keywords_splits\n",
        "\n",
        "#search the query over the dictionary which has been already created!\n",
        "def query2vec(query, dictionary):\n",
        "    print(\"Searching: {0}\".format(query))\n",
        "    corpus = dictionary.doc2bow(query)\n",
        "    return corpus\n",
        "\n",
        "# Convert doc to vector \n",
        "# It tokenize the word \n",
        "# It creates bag of words \n",
        "def doc2vec(texts):    \n",
        "    frequency = Counter()\n",
        "    for sent in texts:\n",
        "        for token in sent:\n",
        "            frequency[token] += 1    \n",
        "    text_token = [[token for token in snipp]for snipp in texts]\n",
        "    texts = [[token for token in snipp if frequency[token] > -1]for snipp in texts]\n",
        "    dictionary = gensim.corpora.Dictionary(texts)\n",
        "    corpus = [dictionary.doc2bow(snipp) for snipp in texts]\n",
        "    return corpus, dictionary, texts, text_token\n",
        "\n",
        "# Using Gensim LSI Model to find best match \n",
        "def transform_vec(corpus, query_corpus):\n",
        "    lsidf = gensim.models.LsiModel(corpus)\n",
        "    corpus_lsidf = lsidf[corpus]\n",
        "    query_lsidf = lsidf[query_corpus]\n",
        "    return corpus_lsidf, query_lsidf\n",
        "\n",
        "\n",
        "def similarity(corpus_lsidf, query_lsidf):\n",
        "    index = gensim.similarities.SparseMatrixSimilarity(corpus_lsidf, num_features=200000)\n",
        "    simi = index[query_lsidf]\n",
        "    simi_sorted = sorted(enumerate(simi), key=lambda item: -item[1])\n",
        "    return simi_sorted\n",
        "\n",
        "\n"
      ],
      "execution_count": 0,
      "outputs": []
    },
    {
      "cell_type": "markdown",
      "metadata": {
        "id": "6-GFPGYUzMYB",
        "colab_type": "text"
      },
      "source": [
        "Features method"
      ]
    },
    {
      "cell_type": "code",
      "metadata": {
        "id": "Z7v077Qu7yZ_",
        "colab_type": "code",
        "colab": {}
      },
      "source": [
        "def get_detail(sentence):\n",
        "    for token in sentence:\n",
        "        print(\"{0} -- Lemma:{1}, Tag:{2}, EntType:{3}, Dep:{4}, Head:{5}\"\n",
        "                     .format(token.text, token.lemma_, token.tag_, token.ent_type_, token.dep_, token.head))\n",
        "\n",
        "\n",
        "def get_compound_nouns(en_doc, token, token_text):\n",
        "\n",
        "    \"\"\"\n",
        "    Recursively find the left and right compound nouns\n",
        "    \"\"\"\n",
        "\n",
        "    parent_token = token\n",
        "\n",
        "    print(\"Compound Noun:{0} DEP {1}\".format(token.text, token.dep_))\n",
        "\n",
        "    # If previous token is a compound noun\n",
        "    while token.i > 0 and en_doc[token.i - 1].dep_ == \"compound\":\n",
        "        token_text = en_doc[token.i - 1].text + \" \" + token_text\n",
        "        token = en_doc[token.i - 1]\n",
        "        # if the compound noun has any adjective modifier\n",
        "        token_text = get_adj_phrase(token, token_text)\n",
        "\n",
        "    token = parent_token\n",
        "\n",
        "    # If next token is a compound noun\n",
        "    while token.i < len(en_doc) - 1 and en_doc[token.i + 1].dep_ == \"compound\":\n",
        "        token_text = token_text + \" \" + en_doc[token.i + 1].text\n",
        "        token = en_doc[token.i + 1]\n",
        "        # if the compound noun has any adjective modifier\n",
        "        token_text = get_adj_phrase(token, token_text)\n",
        "\n",
        "    # NOTE: Can token.shape_ == Xxxx... or XXXX... token.ent_iob_ help us here ...?\n",
        "\n",
        "    return token_text\n",
        "\n",
        "def this_is_adjective(dep_):\n",
        "    return dep_ == \"amod\" or dep_ == \"acomp\" or dep_ == \"ccomp\"\n",
        "\n",
        "def get_adj_phrase(token, token_text):\n",
        "\n",
        "    \"\"\"\n",
        "    To fetch all the adjectives describing the noun\n",
        "    \"\"\"\n",
        "\n",
        "    # amod: An adjectival modifier of a noun is any adjectival phrase that serves to modify the meaning of the noun.\n",
        "    # ccomp: A clausal complement of a verb or adjective is a dependent clause which is a core argument.\n",
        "    #        That is, it functions like an object of the verb, or adjective.\n",
        "    # acomp: An adjectival complement of a verb is an adjectival phrase which functions as the complement\n",
        "\n",
        "    for child in token.children:\n",
        "        if(this_is_adjective(child.dep_)) and child.text != \"much\" and child.text != \"many\":\n",
        "            # if child.dep_ == \"amod\" or child.dep_ == \"acomp\" or child.dep_ == \"ccomp\":  # not for how many\n",
        "            #     if child.text != \"much\" and child.text != \"many\":\n",
        "            token_text = child.lemma_ + \" \" + token_text\n",
        "    return token_text\n",
        "\n",
        "\n",
        "def get_root_phrase(token, keywords):\n",
        "\n",
        "    # xcomp: An open clausal complement (xcomp) of a verb or an adjective is a predicative or clausal complement\n",
        "    #        without its own subject.\n",
        "\n",
        "    for child in token.children:\n",
        "        if child.dep_ == \"acomp\" or child.dep_ == \"xcomp\" or child.dep_ == \"ccomp\":\n",
        "            keywords.append(child.lemma_)\n",
        "    return keywords\n",
        "\n",
        "\n",
        "def this_is_noun(tag_):\n",
        "    # If is Noun/Proper Noun, be it Singular or Plural\n",
        "    return tag_ == \"NN\" or tag_ == \"NNP\" or tag_ == \"NNPS\" or tag_ == \"NNS\"\n",
        "\n",
        "# Finding the word tag and dep\n",
        "def get_noun_chunk(sentence, en_doc, keywords):\n",
        "\n",
        "    root_word = \"\"\n",
        "\n",
        "    for token in sentence:\n",
        "\n",
        "        # If the Noun itself is not a compound Noun then we can find its compound Nouns\n",
        "        print(\"Token -\" +str(token))\n",
        "        if(this_is_noun(token.tag_)) and token.dep_ != \"compound\":\n",
        "            token_text = get_compound_nouns(en_doc, token, token.text)\n",
        "            keywords.append(token_text)\n",
        "\n",
        "        if token.tag_ == \"JJ\" and token.dep_ == \"attr\":\n",
        "            token_text = get_compound_nouns(en_doc, token, token.text)\n",
        "            token_text = get_adj_phrase(token, token_text)\n",
        "            keywords.append(token_text)\n",
        "\n",
        "        # If is a Cardinal Number & dependency is numeric modifier\n",
        "        # nummod : A numeric modifier of a noun is any number phrase that\n",
        "        #          serves to modify the meaning of the noun with a quantity.\n",
        "        if token.dep_ == \"nummod\" or token.tag_ == \"CD\":\n",
        "            token_text = token.text\n",
        "\n",
        "            if token.i > 0 and en_doc[token.i - 1].tag_ == \"JJ\":\n",
        "                # If previous token is Adjective, the adjective is liked with the cardinal number\n",
        "                token_text = en_doc[token.i - 1].text + \" \" + token.text\n",
        "\n",
        "            if token.i < len(en_doc) - 1 and en_doc[token.i + 1].tag_ == \"JJ\":\n",
        "                # If next token is Adjective\n",
        "                token_text = token.text + \" \" + en_doc[token.i + 1].text\n",
        "\n",
        "            keywords.append(token_text)\n",
        "\n",
        "        # Extracts the root word of sentence\n",
        "        if token.dep_ == \"ROOT\":\n",
        "            root_word = token.lemma_\n",
        "            print(\"Root Word -> \"+ str(token))            \n",
        "            keywords = get_root_phrase(token, keywords)\n",
        "\n",
        "    return root_word, keywords\n",
        "\n",
        "#\n",
        "def extract_features(question_type, en_doc, show_debug=False):\n",
        "\n",
        "    # NOTE: In the whole pipeline question_type is not used anywhere currently...\n",
        "\n",
        "    keywords = []\n",
        "    for sentence in en_doc.sents:      \n",
        "      if show_debug:\n",
        "        get_detail(sentence)\n",
        "      root, keywords = get_noun_chunk(sentence, en_doc, keywords)\n",
        "      keywords.append(root)\n",
        "\n",
        "    return keywords"
      ],
      "execution_count": 0,
      "outputs": []
    },
    {
      "cell_type": "code",
      "metadata": {
        "id": "7PEUApcxSydI",
        "colab_type": "code",
        "colab": {}
      },
      "source": [
        "# output list \n",
        "def lsToString(s):  \n",
        "    \n",
        "    # initialize an empty string \n",
        "    str1 = \"\"  \n",
        "    \n",
        "    # traverse in the string   \n",
        "    for ele in s: \n",
        "      if type(ele) == list:\n",
        "        str1 += \" \" +lsToString(ele)\n",
        "      else: \n",
        "        str1 += \" \" +ele   \n",
        "    \n",
        "    # return string   \n",
        "    return str1.strip() \n",
        "  \n",
        "# function used for removing nested  \n",
        "# lists in python.  \n",
        "def removNestings(l): \n",
        "    output = [] \n",
        "    for i in l: \n",
        "        if type(i) == list: \n",
        "           output.append(removNestings(i)) \n",
        "        else: \n",
        "            output.append(i) \n",
        "    return output\n",
        "  \n",
        "\n",
        "def keywordMaker(l): \n",
        "    result = []\n",
        "    for i in l:    \n",
        "      result.append(lsToString(removNestings(i)))      \n",
        "    return result\n",
        "  \n",
        "\n"
      ],
      "execution_count": 0,
      "outputs": []
    },
    {
      "cell_type": "markdown",
      "metadata": {
        "id": "ZPGaNQtGj3pM",
        "colab_type": "text"
      },
      "source": [
        "### Exploring Lemmatization, Stemming, and BOG"
      ]
    },
    {
      "cell_type": "markdown",
      "metadata": {
        "id": "lE30xwA6GSjc",
        "colab_type": "text"
      },
      "source": [
        "*The goal of both stemming and lemmatization is to reduce inflectional forms and sometimes derivationally related forms of a word to a common base form.*   \n",
        "\n",
        "Rather than using a stemmer, you can use a lemmatizer , a tool from Natural Language Processing which does full morphological analysis to accurately identify the lemma for each word."
      ]
    },
    {
      "cell_type": "markdown",
      "metadata": {
        "id": "mWs7msTwH4lb",
        "colab_type": "text"
      },
      "source": [
        "Stemming: cats -> \"cat\""
      ]
    },
    {
      "cell_type": "code",
      "metadata": {
        "id": "b_sJto2KHR02",
        "colab_type": "code",
        "colab": {
          "base_uri": "https://localhost:8080/",
          "height": 35
        },
        "outputId": "3b6338f0-783a-4964-ea3d-7ab80f88e05a"
      },
      "source": [
        "porter = PorterStemmer()\n",
        "print(porter.stem(\"cats\"))"
      ],
      "execution_count": 10,
      "outputs": [
        {
          "output_type": "stream",
          "text": [
            "cat\n"
          ],
          "name": "stdout"
        }
      ]
    },
    {
      "cell_type": "markdown",
      "metadata": {
        "id": "dqe_LWL73ZGB",
        "colab_type": "text"
      },
      "source": [
        "Lemmatization : am, is, are -> “be”\n",
        "\n"
      ]
    },
    {
      "cell_type": "code",
      "metadata": {
        "id": "_bBCdfNF9q0b",
        "colab_type": "code",
        "outputId": "708c755c-aeba-4a97-a385-177fae90eaf2",
        "colab": {
          "base_uri": "https://localhost:8080/",
          "height": 55
        }
      },
      "source": [
        "input_text = \"Harry Potter is a series of fantasy novels written by British author J. K. Rowling. The novels chronicle the lives of a young wizard, Harry Potter, and his friends Hermione Granger and Ron Weasley, all of whom are students at Hogwarts School of Witchcraft and Wizardry. The main story arc concerns Harry's struggle against Lord Voldemort, a dark wizard who intends to become immortal, overthrow the wizard governing body known as the Ministry of Magic and subjugate all wizards and Muggles (non-magical people). Since the release of the first novel, Harry Potter and the Philosopher's Stone, on 26 June 1997, the books have found immense popularity, critical acclaim and commercial success worldwide. They have attracted a wide adult audience as well as younger readers and are often considered cornerstones of modern young adult literature. As of February 2018, the books have sold more than 500 million copies worldwide, making them the best-selling book series in history, and have been translated into eighty languages.[3] The last four books consecutively set records as the fastest-selling books in history, with the final instalment selling roughly eleven million copies in the United States within twenty-four hours of its release.\"\n",
        "en_doc = nlp(u'' + input_text)\n",
        "sentences = list(en_doc.sents)\n",
        "print(sentences)"
      ],
      "execution_count": 39,
      "outputs": [
        {
          "output_type": "stream",
          "text": [
            "[Harry Potter is a series of fantasy novels written by British author J. K. Rowling., The novels chronicle the lives of a young wizard, Harry Potter, and his friends Hermione Granger and Ron Weasley, all of whom are students at Hogwarts School of Witchcraft and Wizardry., The main story arc concerns Harry's struggle against Lord Voldemort, a dark wizard who intends to become immortal, overthrow the wizard governing body known as the Ministry of Magic and subjugate all wizards and Muggles (non-magical people)., Since the release of the first novel, Harry Potter and the Philosopher's Stone, on 26 June 1997, the books have found immense popularity, critical acclaim and commercial success worldwide., They have attracted a wide adult audience as well as younger readers and are often considered cornerstones of modern young adult literature., As of February 2018, the books have sold more than 500 million copies worldwide, making them the best-selling book series in history, and have been translated into eighty languages.[3], The last four books consecutively set records as the fastest-selling books in history, with the final instalment selling roughly eleven million copies in the United States within twenty-four hours of its release.]\n"
          ],
          "name": "stdout"
        }
      ]
    },
    {
      "cell_type": "code",
      "metadata": {
        "id": "hL0Cj4wSFss-",
        "colab_type": "code",
        "outputId": "242bbd82-5aa7-43ec-a521-967ac2a46df9",
        "colab": {
          "base_uri": "https://localhost:8080/",
          "height": 72
        }
      },
      "source": [
        "texts = [[word for word in doc.lemma_.split() if word not in [stopwords]]for doc in sentences]\n",
        "\n",
        "corpus, dictionary, text, token = doc2vec(texts)\n",
        "\n",
        "print(texts) \n",
        "print(token)\n"
      ],
      "execution_count": 12,
      "outputs": [
        {
          "output_type": "stream",
          "text": [
            "[['Harry', 'Potter', 'be', 'a', 'series', 'of', 'fantasy', 'novel', 'write', 'by', 'british', 'author', 'J.', 'K.', 'Rowling', '.'], ['the', 'novel', 'chronicle', 'the', 'life', 'of', 'a', 'young', 'wizard', ',', 'Harry', 'Potter', ',', 'and', '-PRON-', 'friend', 'Hermione', 'Granger', 'and', 'Ron', 'Weasley', ',', 'all', 'of', 'whom', 'be', 'student', 'at', 'Hogwarts', 'School', 'of', 'Witchcraft', 'and', 'Wizardry', '.'], ['the', 'main', 'story', 'arc', 'concern', 'Harry', \"'s\", 'struggle', 'against', 'Lord', 'Voldemort', ',', 'a', 'dark', 'wizard', 'who', 'intend', 'to', 'become', 'immortal', ',', 'overthrow', 'the', 'wizard', 'governing', 'body', 'know', 'as', 'the', 'Ministry', 'of', 'Magic', 'and', 'subjugate', 'all', 'wizard', 'and', 'Muggles', '(', 'non', '-', 'magical', 'people', ')', '.'], ['since', 'the', 'release', 'of', 'the', 'first', 'novel', ',', 'Harry', 'Potter', 'and', 'the', 'Philosopher', \"'s\", 'Stone', ',', 'on', '26', 'June', '1997', ',', 'the', 'book', 'have', 'find', 'immense', 'popularity', ',', 'critical', 'acclaim', 'and', 'commercial', 'success', 'worldwide', '.'], ['-PRON-', 'have', 'attract', 'a', 'wide', 'adult', 'audience', 'as', 'well', 'as', 'young', 'reader', 'and', 'be', 'often', 'consider', 'cornerstone', 'of', 'modern', 'young', 'adult', 'literature', '.'], ['as', 'of', 'February', '2018', ',', 'the', 'book', 'have', 'sell', 'more', 'than', '500', 'million', 'copy', 'worldwide', ',', 'make', '-PRON-', 'the', 'best', '-', 'sell', 'book', 'series', 'in', 'history', ',', 'and', 'have', 'be', 'translate', 'into', 'eighty', 'languages.[3', ']'], ['the', 'last', 'four', 'book', 'consecutively', 'set', 'record', 'as', 'the', 'fastest', '-', 'sell', 'book', 'in', 'history', ',', 'with', 'the', 'final', 'instalment', 'selling', 'roughly', 'eleven', 'million', 'copy', 'in', 'the', 'United', 'States', 'within', 'twenty', '-', 'four', 'hour', 'of', '-PRON-', 'release', '.']]\n",
            "[['Harry', 'Potter', 'be', 'a', 'series', 'of', 'fantasy', 'novel', 'write', 'by', 'british', 'author', 'J.', 'K.', 'Rowling', '.'], ['the', 'novel', 'chronicle', 'the', 'life', 'of', 'a', 'young', 'wizard', ',', 'Harry', 'Potter', ',', 'and', '-PRON-', 'friend', 'Hermione', 'Granger', 'and', 'Ron', 'Weasley', ',', 'all', 'of', 'whom', 'be', 'student', 'at', 'Hogwarts', 'School', 'of', 'Witchcraft', 'and', 'Wizardry', '.'], ['the', 'main', 'story', 'arc', 'concern', 'Harry', \"'s\", 'struggle', 'against', 'Lord', 'Voldemort', ',', 'a', 'dark', 'wizard', 'who', 'intend', 'to', 'become', 'immortal', ',', 'overthrow', 'the', 'wizard', 'governing', 'body', 'know', 'as', 'the', 'Ministry', 'of', 'Magic', 'and', 'subjugate', 'all', 'wizard', 'and', 'Muggles', '(', 'non', '-', 'magical', 'people', ')', '.'], ['since', 'the', 'release', 'of', 'the', 'first', 'novel', ',', 'Harry', 'Potter', 'and', 'the', 'Philosopher', \"'s\", 'Stone', ',', 'on', '26', 'June', '1997', ',', 'the', 'book', 'have', 'find', 'immense', 'popularity', ',', 'critical', 'acclaim', 'and', 'commercial', 'success', 'worldwide', '.'], ['-PRON-', 'have', 'attract', 'a', 'wide', 'adult', 'audience', 'as', 'well', 'as', 'young', 'reader', 'and', 'be', 'often', 'consider', 'cornerstone', 'of', 'modern', 'young', 'adult', 'literature', '.'], ['as', 'of', 'February', '2018', ',', 'the', 'book', 'have', 'sell', 'more', 'than', '500', 'million', 'copy', 'worldwide', ',', 'make', '-PRON-', 'the', 'best', '-', 'sell', 'book', 'series', 'in', 'history', ',', 'and', 'have', 'be', 'translate', 'into', 'eighty', 'languages.[3', ']'], ['the', 'last', 'four', 'book', 'consecutively', 'set', 'record', 'as', 'the', 'fastest', '-', 'sell', 'book', 'in', 'history', ',', 'with', 'the', 'final', 'instalment', 'selling', 'roughly', 'eleven', 'million', 'copy', 'in', 'the', 'United', 'States', 'within', 'twenty', '-', 'four', 'hour', 'of', '-PRON-', 'release', '.']]\n"
          ],
          "name": "stdout"
        }
      ]
    },
    {
      "cell_type": "code",
      "metadata": {
        "id": "8HJ2FZXvP43s",
        "colab_type": "code",
        "colab": {
          "base_uri": "https://localhost:8080/",
          "height": 191
        },
        "outputId": "f0dd4df2-b428-473f-f7bb-36d6d5d9b72c"
      },
      "source": [
        "# Checking Dictionary, It will arrange as per no. of occurance. \n",
        "for i in range(10):\n",
        "  print(dictionary[i])"
      ],
      "execution_count": 13,
      "outputs": [
        {
          "output_type": "stream",
          "text": [
            ".\n",
            "Harry\n",
            "J.\n",
            "K.\n",
            "Potter\n",
            "Rowling\n",
            "a\n",
            "author\n",
            "be\n",
            "british\n"
          ],
          "name": "stdout"
        }
      ]
    },
    {
      "cell_type": "code",
      "metadata": {
        "id": "a_S3D4YoGOH8",
        "colab_type": "code",
        "outputId": "1f071fc3-822a-4a0d-8b4f-651e41e1f0f0",
        "colab": {
          "base_uri": "https://localhost:8080/",
          "height": 55
        }
      },
      "source": [
        "print(corpus) # Corpus : \"A corpus is a large body of natural language text used for accumulating statistics on natural language text. \n",
        "# (word Index id, Count) \n",
        "# BOW"
      ],
      "execution_count": 14,
      "outputs": [
        {
          "output_type": "stream",
          "text": [
            "[[(0, 1), (1, 1), (2, 1), (3, 1), (4, 1), (5, 1), (6, 1), (7, 1), (8, 1), (9, 1), (10, 1), (11, 1), (12, 1), (13, 1), (14, 1), (15, 1)], [(0, 1), (1, 1), (4, 1), (6, 1), (8, 1), (12, 1), (13, 3), (16, 3), (17, 1), (18, 1), (19, 1), (20, 1), (21, 1), (22, 1), (23, 1), (24, 1), (25, 1), (26, 1), (27, 3), (28, 1), (29, 1), (30, 1), (31, 1), (32, 1), (33, 2), (34, 1), (35, 1), (36, 1)], [(0, 1), (1, 1), (6, 1), (13, 1), (16, 2), (26, 1), (27, 2), (33, 3), (35, 3), (37, 1), (38, 1), (39, 1), (40, 1), (41, 1), (42, 1), (43, 1), (44, 1), (45, 1), (46, 1), (47, 1), (48, 1), (49, 1), (50, 1), (51, 1), (52, 1), (53, 1), (54, 1), (55, 1), (56, 1), (57, 1), (58, 1), (59, 1), (60, 1), (61, 1), (62, 1), (63, 1), (64, 1), (65, 1), (66, 1)], [(0, 1), (1, 1), (4, 1), (12, 1), (13, 1), (16, 4), (27, 2), (33, 4), (37, 1), (67, 1), (68, 1), (69, 1), (70, 1), (71, 1), (72, 1), (73, 1), (74, 1), (75, 1), (76, 1), (77, 1), (78, 1), (79, 1), (80, 1), (81, 1), (82, 1), (83, 1), (84, 1), (85, 1)], [(0, 1), (6, 1), (8, 1), (13, 1), (17, 1), (27, 1), (36, 2), (48, 2), (78, 1), (86, 2), (87, 1), (88, 1), (89, 1), (90, 1), (91, 1), (92, 1), (93, 1), (94, 1), (95, 1), (96, 1)], [(8, 1), (13, 1), (14, 1), (16, 3), (17, 1), (27, 1), (33, 2), (40, 1), (48, 1), (73, 2), (78, 2), (85, 1), (97, 1), (98, 1), (99, 1), (100, 1), (101, 1), (102, 1), (103, 1), (104, 1), (105, 1), (106, 1), (107, 1), (108, 1), (109, 1), (110, 1), (111, 2), (112, 1), (113, 1)], [(0, 1), (13, 1), (16, 1), (17, 1), (33, 4), (40, 2), (48, 1), (73, 2), (82, 1), (102, 1), (104, 1), (105, 2), (109, 1), (111, 1), (114, 1), (115, 1), (116, 1), (117, 1), (118, 1), (119, 1), (120, 2), (121, 1), (122, 1), (123, 1), (124, 1), (125, 1), (126, 1), (127, 1), (128, 1), (129, 1), (130, 1)]]\n"
          ],
          "name": "stdout"
        }
      ]
    },
    {
      "cell_type": "code",
      "metadata": {
        "id": "D2lnLbCXzVj-",
        "colab_type": "code",
        "colab": {
          "base_uri": "https://localhost:8080/",
          "height": 69
        },
        "outputId": "ad197c7e-f8ca-4a9c-d84d-c567490c731a"
      },
      "source": [
        "from gensim.corpora import Dictionary\n",
        "dct = Dictionary([\"máma mele maso\".split(), \"ema má máma\".split()])\n",
        "print(dct)\n",
        "print(\"Bag of Words : - list of (token_id, token_count) tuples.\")\n",
        "print(dct.doc2bow([\"this\", \"is\", \"máma\"], return_missing=True))"
      ],
      "execution_count": 15,
      "outputs": [
        {
          "output_type": "stream",
          "text": [
            "Dictionary(5 unique tokens: ['maso', 'mele', 'máma', 'ema', 'má'])\n",
            "Bag of Words : - list of (token_id, token_count) tuples.\n",
            "([(2, 1)], {'is': 1, 'this': 1})\n"
          ],
          "name": "stdout"
        }
      ]
    },
    {
      "cell_type": "markdown",
      "metadata": {
        "id": "4QaCKno-qh4f",
        "colab_type": "text"
      },
      "source": [
        "### **Question Answer**"
      ]
    },
    {
      "cell_type": "code",
      "metadata": {
        "id": "jmuNpBnMylp2",
        "colab_type": "code",
        "outputId": "84622f80-ca13-4882-8d09-354a8e561f7d",
        "colab": {
          "base_uri": "https://localhost:8080/",
          "height": 243
        }
      },
      "source": [
        "question = \"Who is Harry Potter?\"\n",
        "en_doc_l = nlp(u'' + question)\n",
        "features = extract_features(\"\", en_doc_l, True)\n",
        "print(\"Extracted: {0}\".format(features))"
      ],
      "execution_count": 16,
      "outputs": [
        {
          "output_type": "stream",
          "text": [
            "Who -- Lemma:who, Tag:WP, EntType:, Dep:attr, Head:is\n",
            "is -- Lemma:be, Tag:VBZ, EntType:, Dep:ROOT, Head:is\n",
            "Harry -- Lemma:Harry, Tag:NNP, EntType:PERSON, Dep:compound, Head:Potter\n",
            "Potter -- Lemma:Potter, Tag:NNP, EntType:PERSON, Dep:attr, Head:is\n",
            "? -- Lemma:?, Tag:., EntType:, Dep:punct, Head:is\n",
            "Token -Who\n",
            "Token -is\n",
            "Root Word -> is\n",
            "Token -Harry\n",
            "Token -Potter\n",
            "Compound Noun:Potter DEP attr\n",
            "Token -?\n",
            "Extracted: ['Harry Potter', 'be']\n"
          ],
          "name": "stdout"
        }
      ]
    },
    {
      "cell_type": "code",
      "metadata": {
        "id": "prQFIGv9btBc",
        "colab_type": "code",
        "outputId": "fbd160e0-ee71-4a5d-c871-9506aba49850",
        "colab": {
          "base_uri": "https://localhost:8080/",
          "height": 35
        }
      },
      "source": [
        "doc = nlp(question)\n",
        "print([(X.text, X.label_) for X in doc.ents])"
      ],
      "execution_count": 17,
      "outputs": [
        {
          "output_type": "stream",
          "text": [
            "[('Harry Potter', 'PERSON')]\n"
          ],
          "name": "stdout"
        }
      ]
    },
    {
      "cell_type": "code",
      "metadata": {
        "colab_type": "code",
        "outputId": "ba2e6383-d626-41b6-fc3a-eaa23927b769",
        "id": "VsLiEsRd-aGE",
        "colab": {
          "base_uri": "https://localhost:8080/",
          "height": 35
        }
      },
      "source": [
        "\n",
        "ques_feature = [word.split() for word in features]\n",
        "\n",
        "mix_ques = ([[x,y] for x in ques_feature for y in ques_feature if x != y])\n",
        "\n",
        "#listToString = str(','.join([str(elem) for elem in mix_ques]) + \",\"+ question +\",\"+ ','.join([str(elem) for elem in ques])) \n",
        " \n",
        "print([' '.join([str(c) for c in lst]) for lst in mix_ques])\n"
      ],
      "execution_count": 18,
      "outputs": [
        {
          "output_type": "stream",
          "text": [
            "[\"['Harry', 'Potter'] ['be']\", \"['be'] ['Harry', 'Potter']\"]\n"
          ],
          "name": "stdout"
        }
      ]
    },
    {
      "cell_type": "code",
      "metadata": {
        "id": "WGNU8nI4_7-6",
        "colab_type": "code",
        "colab": {}
      },
      "source": [
        "list_question = mix_ques\n",
        "ques_make = keywordMaker(list_question)\n",
        "ques_make.append(question)\n",
        "search = ques_make + keywordMaker(ques_feature)"
      ],
      "execution_count": 0,
      "outputs": []
    },
    {
      "cell_type": "code",
      "metadata": {
        "id": "3lPeUMdsnLzL",
        "colab_type": "code",
        "outputId": "da200872-f009-4b4b-bd6b-77db5037c439",
        "colab": {
          "base_uri": "https://localhost:8080/",
          "height": 35
        }
      },
      "source": [
        "query_corpus = query2vec(search, dictionary)"
      ],
      "execution_count": 20,
      "outputs": [
        {
          "output_type": "stream",
          "text": [
            "Searching: ['Harry Potter be', 'be Harry Potter', 'Who is Harry Potter?', 'Harry Potter', 'be']\n"
          ],
          "name": "stdout"
        }
      ]
    },
    {
      "cell_type": "code",
      "metadata": {
        "id": "aheSOofDksr-",
        "colab_type": "code",
        "colab": {}
      },
      "source": [
        "corpus_lsidf, query_lsidf = transform_vec(corpus, query_corpus)"
      ],
      "execution_count": 0,
      "outputs": []
    },
    {
      "cell_type": "code",
      "metadata": {
        "id": "jGCjGnvwmq0h",
        "colab_type": "code",
        "outputId": "eb36b188-bd82-44ab-c20a-7af6b96ceeec",
        "colab": {
          "base_uri": "https://localhost:8080/",
          "height": 35
        }
      },
      "source": [
        "print(corpus_lsidf)"
      ],
      "execution_count": 22,
      "outputs": [
        {
          "output_type": "stream",
          "text": [
            "<gensim.interfaces.TransformedCorpus object at 0x7fdc4359ba90>\n"
          ],
          "name": "stdout"
        }
      ]
    },
    {
      "cell_type": "code",
      "metadata": {
        "id": "ldP2jzxsqHKB",
        "colab_type": "code",
        "colab": {}
      },
      "source": [
        "simi_sorted = similarity(corpus_lsidf, query_lsidf)"
      ],
      "execution_count": 0,
      "outputs": []
    },
    {
      "cell_type": "code",
      "metadata": {
        "id": "d_Tzb5ycjshY",
        "colab_type": "code",
        "outputId": "dfae4941-4361-41d1-ee4a-ca858242b876",
        "colab": {
          "base_uri": "https://localhost:8080/",
          "height": 35
        }
      },
      "source": [
        "print(len(simi_sorted))"
      ],
      "execution_count": 24,
      "outputs": [
        {
          "output_type": "stream",
          "text": [
            "7\n"
          ],
          "name": "stdout"
        }
      ]
    },
    {
      "cell_type": "code",
      "metadata": {
        "colab_type": "code",
        "outputId": "1f898c53-07b8-4d61-d890-588fd03f03b2",
        "id": "guvm0R8x36b7",
        "colab": {
          "base_uri": "https://localhost:8080/",
          "height": 176
        }
      },
      "source": [
        "    \n",
        "    print(\"simi_sorted \\n\")\n",
        "    print(simi_sorted)\n",
        "    candidate_ans = []\n",
        "    \n",
        "    ##New Correction\n",
        "    for sent in simi_sorted:\n",
        "        sent_id = sent[0]\n",
        "        if sent[1] > 0:\n",
        "          candidate_ans.append(str(sentences[sent_id]))\n",
        "          print(candidate_ans)\n",
        "        \n",
        "        \n",
        "        "
      ],
      "execution_count": 25,
      "outputs": [
        {
          "output_type": "stream",
          "text": [
            "simi_sorted \n",
            "\n",
            "[(0, 0.7424258), (4, 0.5514601), (5, 0.42424336), (1, 0.4004348), (6, 3.958121e-09), (3, -1.8626451e-08), (2, -2.8871e-08)]\n",
            "['Harry Potter is a series of fantasy novels written by British author J. K. Rowling.']\n",
            "['Harry Potter is a series of fantasy novels written by British author J. K. Rowling.', 'They have attracted a wide adult audience as well as younger readers and are often considered cornerstones of modern young adult literature.']\n",
            "['Harry Potter is a series of fantasy novels written by British author J. K. Rowling.', 'They have attracted a wide adult audience as well as younger readers and are often considered cornerstones of modern young adult literature.', 'As of February 2018, the books have sold more than 500 million copies worldwide, making them the best-selling book series in history, and have been translated into eighty languages.[3]']\n",
            "['Harry Potter is a series of fantasy novels written by British author J. K. Rowling.', 'They have attracted a wide adult audience as well as younger readers and are often considered cornerstones of modern young adult literature.', 'As of February 2018, the books have sold more than 500 million copies worldwide, making them the best-selling book series in history, and have been translated into eighty languages.[3]', 'The novels chronicle the lives of a young wizard, Harry Potter, and his friends Hermione Granger and Ron Weasley, all of whom are students at Hogwarts School of Witchcraft and Wizardry.']\n",
            "['Harry Potter is a series of fantasy novels written by British author J. K. Rowling.', 'They have attracted a wide adult audience as well as younger readers and are often considered cornerstones of modern young adult literature.', 'As of February 2018, the books have sold more than 500 million copies worldwide, making them the best-selling book series in history, and have been translated into eighty languages.[3]', 'The novels chronicle the lives of a young wizard, Harry Potter, and his friends Hermione Granger and Ron Weasley, all of whom are students at Hogwarts School of Witchcraft and Wizardry.', 'The last four books consecutively set records as the fastest-selling books in history, with the final instalment selling roughly eleven million copies in the United States within twenty-four hours of its release.']\n"
          ],
          "name": "stdout"
        }
      ]
    },
    {
      "cell_type": "code",
      "metadata": {
        "id": "rMsREodnzLhS",
        "colab_type": "code",
        "outputId": "69b9fd14-d59d-4bec-9d3c-7cd4bd5535bc",
        "colab": {
          "base_uri": "https://localhost:8080/",
          "height": 297
        }
      },
      "source": [
        "\n",
        "matrix_tag = []\n",
        "w1 = wordnet.synset('date.n.01') \n",
        "w2 = wordnet.synset('time.n.01') # n denotes noun \n",
        "print(w1.wup_similarity(w2)) \n",
        "for statement in candidate_ans:\n",
        "  selected_statement =  nlp(statement)\n",
        "  for ent in selected_statement.ents:   \n",
        "    matrix_tag += [ent.text,ent.label_+\"(\"+spacy.explain(ent.label_)+\")\"]\n",
        "    print(ent.text, ent.start_char, ent.end_char, ent.label_,spacy.explain(ent.label_),  ent.sentiment)\n",
        "print(matrix_tag)"
      ],
      "execution_count": 26,
      "outputs": [
        {
          "output_type": "stream",
          "text": [
            "0.3076923076923077\n",
            "Harry Potter 0 12 PERSON People, including fictional 0.0\n",
            "British 54 61 NORP Nationalities or religious or political groups 0.0\n",
            "J. K. Rowling 69 82 PERSON People, including fictional 0.0\n",
            "February 2018 6 19 DATE Absolute or relative dates or periods 0.0\n",
            "more than 500 million 41 62 CARDINAL Numerals that do not fall under another type 0.0\n",
            "Harry Potter 50 62 PERSON People, including fictional 0.0\n",
            "Hermione Granger 80 96 PERSON People, including fictional 0.0\n",
            "Ron Weasley 101 112 PERSON People, including fictional 0.0\n",
            "Hogwarts School of Witchcraft and Wizardry 142 184 ORG Companies, agencies, institutions, etc. 0.0\n",
            "four 9 13 CARDINAL Numerals that do not fall under another type 0.0\n",
            "roughly eleven million 121 143 CARDINAL Numerals that do not fall under another type 0.0\n",
            "the United States 154 171 GPE Countries, cities, states 0.0\n",
            "twenty-four hours 179 196 TIME Times smaller than a day 0.0\n",
            "['Harry Potter', 'PERSON(People, including fictional)', 'British', 'NORP(Nationalities or religious or political groups)', 'J. K. Rowling', 'PERSON(People, including fictional)', 'February 2018', 'DATE(Absolute or relative dates or periods)', 'more than 500 million', 'CARDINAL(Numerals that do not fall under another type)', 'Harry Potter', 'PERSON(People, including fictional)', 'Hermione Granger', 'PERSON(People, including fictional)', 'Ron Weasley', 'PERSON(People, including fictional)', 'Hogwarts School of Witchcraft and Wizardry', 'ORG(Companies, agencies, institutions, etc.)', 'four', 'CARDINAL(Numerals that do not fall under another type)', 'roughly eleven million', 'CARDINAL(Numerals that do not fall under another type)', 'the United States', 'GPE(Countries, cities, states)', 'twenty-four hours', 'TIME(Times smaller than a day)']\n"
          ],
          "name": "stdout"
        }
      ]
    },
    {
      "cell_type": "markdown",
      "metadata": {
        "id": "5X_Xqu4V90w4",
        "colab_type": "text"
      },
      "source": [
        "### **Dependency Parse**"
      ]
    },
    {
      "cell_type": "code",
      "metadata": {
        "id": "G1nukUOE97eL",
        "colab_type": "code",
        "outputId": "7d96de0c-b007-421f-cf2d-0573d94fdbbf",
        "colab": {
          "base_uri": "https://localhost:8080/",
          "height": 55
        }
      },
      "source": [
        "  print(candidate_ans)"
      ],
      "execution_count": 27,
      "outputs": [
        {
          "output_type": "stream",
          "text": [
            "['Harry Potter is a series of fantasy novels written by British author J. K. Rowling.', 'They have attracted a wide adult audience as well as younger readers and are often considered cornerstones of modern young adult literature.', 'As of February 2018, the books have sold more than 500 million copies worldwide, making them the best-selling book series in history, and have been translated into eighty languages.[3]', 'The novels chronicle the lives of a young wizard, Harry Potter, and his friends Hermione Granger and Ron Weasley, all of whom are students at Hogwarts School of Witchcraft and Wizardry.', 'The last four books consecutively set records as the fastest-selling books in history, with the final instalment selling roughly eleven million copies in the United States within twenty-four hours of its release.']\n"
          ],
          "name": "stdout"
        }
      ]
    },
    {
      "cell_type": "code",
      "metadata": {
        "id": "NVzj7wyA-BLo",
        "colab_type": "code",
        "outputId": "69abbf48-d293-4c67-d348-2447575e1455",
        "colab": {
          "base_uri": "https://localhost:8080/",
          "height": 1000
        }
      },
      "source": [
        "for token in en_doc:\n",
        "    print(\"{0}/{1} <--{2}-- {3}/{4}\".format(\n",
        "        token.text, token.tag_, token.dep_, token.head.text, token.head.tag_))"
      ],
      "execution_count": 28,
      "outputs": [
        {
          "output_type": "stream",
          "text": [
            "Harry/NNP <--compound-- Potter/NNP\n",
            "Potter/NNP <--nsubj-- is/VBZ\n",
            "is/VBZ <--ROOT-- is/VBZ\n",
            "a/DT <--det-- series/NN\n",
            "series/NN <--attr-- is/VBZ\n",
            "of/IN <--prep-- series/NN\n",
            "fantasy/NN <--compound-- novels/NNS\n",
            "novels/NNS <--pobj-- of/IN\n",
            "written/VBN <--acl-- novels/NNS\n",
            "by/IN <--agent-- written/VBN\n",
            "British/JJ <--amod-- author/NN\n",
            "author/NN <--compound-- Rowling/NNP\n",
            "J./NNP <--compound-- Rowling/NNP\n",
            "K./NNP <--compound-- Rowling/NNP\n",
            "Rowling/NNP <--pobj-- by/IN\n",
            "./. <--punct-- is/VBZ\n",
            "The/DT <--det-- novels/NNS\n",
            "novels/NNS <--nsubj-- chronicle/NN\n",
            "chronicle/NN <--ROOT-- chronicle/NN\n",
            "the/DT <--det-- lives/NNS\n",
            "lives/NNS <--dobj-- chronicle/NN\n",
            "of/IN <--prep-- lives/NNS\n",
            "a/DT <--det-- wizard/NN\n",
            "young/JJ <--amod-- wizard/NN\n",
            "wizard/NN <--pobj-- of/IN\n",
            ",/, <--punct-- wizard/NN\n",
            "Harry/NNP <--compound-- Potter/NNP\n",
            "Potter/NNP <--appos-- wizard/NN\n",
            ",/, <--punct-- wizard/NN\n",
            "and/CC <--cc-- wizard/NN\n",
            "his/PRP$ <--poss-- friends/NNS\n",
            "friends/NNS <--conj-- wizard/NN\n",
            "Hermione/NNP <--compound-- Granger/NNP\n",
            "Granger/NNP <--appos-- friends/NNS\n",
            "and/CC <--cc-- Granger/NNP\n",
            "Ron/NNP <--compound-- Weasley/NNP\n",
            "Weasley/NNP <--conj-- Granger/NNP\n",
            ",/, <--punct-- friends/NNS\n",
            "all/DT <--nsubj-- are/VBP\n",
            "of/IN <--prep-- all/DT\n",
            "whom/WP <--pobj-- of/IN\n",
            "are/VBP <--relcl-- friends/NNS\n",
            "students/NNS <--attr-- are/VBP\n",
            "at/IN <--prep-- students/NNS\n",
            "Hogwarts/NNP <--compound-- School/NNP\n",
            "School/NNP <--pobj-- at/IN\n",
            "of/IN <--prep-- School/NNP\n",
            "Witchcraft/NNP <--pobj-- of/IN\n",
            "and/CC <--cc-- Witchcraft/NNP\n",
            "Wizardry/NNP <--conj-- Witchcraft/NNP\n",
            "./. <--punct-- chronicle/NN\n",
            "The/DT <--det-- arc/NN\n",
            "main/JJ <--amod-- arc/NN\n",
            "story/NN <--compound-- arc/NN\n",
            "arc/NN <--nsubj-- concerns/VBZ\n",
            "concerns/VBZ <--ROOT-- concerns/VBZ\n",
            "Harry/NNP <--poss-- struggle/NN\n",
            "'s/POS <--case-- Harry/NNP\n",
            "struggle/NN <--dobj-- concerns/VBZ\n",
            "against/IN <--prep-- struggle/NN\n",
            "Lord/NNP <--compound-- Voldemort/NNP\n",
            "Voldemort/NNP <--pobj-- against/IN\n",
            ",/, <--punct-- Voldemort/NNP\n",
            "a/DT <--det-- wizard/NN\n",
            "dark/JJ <--amod-- wizard/NN\n",
            "wizard/NN <--appos-- Voldemort/NNP\n",
            "who/WP <--nsubj-- intends/VBZ\n",
            "intends/VBZ <--relcl-- wizard/NN\n",
            "to/TO <--aux-- become/VB\n",
            "become/VB <--xcomp-- intends/VBZ\n",
            "immortal/JJ <--acomp-- become/VB\n",
            ",/, <--punct-- overthrow/VB\n",
            "overthrow/VB <--conj-- concerns/VBZ\n",
            "the/DT <--det-- body/NN\n",
            "wizard/JJ <--amod-- body/NN\n",
            "governing/NN <--amod-- body/NN\n",
            "body/NN <--dobj-- overthrow/VB\n",
            "known/VBN <--acl-- body/NN\n",
            "as/IN <--prep-- known/VBN\n",
            "the/DT <--det-- Ministry/NNP\n",
            "Ministry/NNP <--pobj-- as/IN\n",
            "of/IN <--prep-- Ministry/NNP\n",
            "Magic/NNP <--pobj-- of/IN\n",
            "and/CC <--cc-- overthrow/VB\n",
            "subjugate/VB <--conj-- overthrow/VB\n",
            "all/DT <--det-- wizards/NNS\n",
            "wizards/NNS <--dobj-- subjugate/VB\n",
            "and/CC <--cc-- wizards/NNS\n",
            "Muggles/NNPS <--conj-- wizards/NNS\n",
            "(/-LRB- <--punct-- people/NNS\n",
            "non/JJ <--subtok-- -/JJ\n",
            "-/JJ <--subtok-- magical/JJ\n",
            "magical/JJ <--amod-- people/NNS\n",
            "people/NNS <--appos-- Muggles/NNPS\n",
            ")/-RRB- <--punct-- overthrow/VB\n",
            "./. <--punct-- concerns/VBZ\n",
            "Since/IN <--prep-- found/VBN\n",
            "the/DT <--det-- release/NN\n",
            "release/NN <--pobj-- Since/IN\n",
            "of/IN <--prep-- release/NN\n",
            "the/DT <--det-- novel/NN\n",
            "first/JJ <--amod-- novel/NN\n",
            "novel/NN <--pobj-- of/IN\n",
            ",/, <--punct-- novel/NN\n",
            "Harry/NNP <--compound-- Potter/NNP\n",
            "Potter/NNP <--appos-- novel/NN\n",
            "and/CC <--cc-- Potter/NNP\n",
            "the/DT <--det-- Philosopher/NNP\n",
            "Philosopher/NNP <--poss-- Stone/NNP\n",
            "'s/POS <--case-- Philosopher/NNP\n",
            "Stone/NNP <--conj-- Potter/NNP\n",
            ",/, <--punct-- found/VBN\n",
            "on/IN <--prep-- found/VBN\n",
            "26/CD <--nummod-- June/NNP\n",
            "June/NNP <--pobj-- on/IN\n",
            "1997/CD <--nummod-- June/NNP\n",
            ",/, <--punct-- found/VBN\n",
            "the/DT <--det-- books/NNS\n",
            "books/NNS <--nsubj-- found/VBN\n",
            "have/VBP <--aux-- found/VBN\n",
            "found/VBN <--ROOT-- found/VBN\n",
            "immense/JJ <--amod-- popularity/NN\n",
            "popularity/NN <--dobj-- found/VBN\n",
            ",/, <--punct-- popularity/NN\n",
            "critical/JJ <--amod-- acclaim/NN\n",
            "acclaim/NN <--conj-- popularity/NN\n",
            "and/CC <--cc-- acclaim/NN\n",
            "commercial/JJ <--amod-- success/NN\n",
            "success/NN <--conj-- acclaim/NN\n",
            "worldwide/RB <--advmod-- popularity/NN\n",
            "./. <--punct-- found/VBN\n",
            "They/PRP <--nsubj-- attracted/VBN\n",
            "have/VBP <--aux-- attracted/VBN\n",
            "attracted/VBN <--ROOT-- attracted/VBN\n",
            "a/DT <--det-- audience/NN\n",
            "wide/JJ <--amod-- audience/NN\n",
            "adult/NN <--compound-- audience/NN\n",
            "audience/NN <--dobj-- attracted/VBN\n",
            "as/RB <--advmod-- as/IN\n",
            "well/RB <--advmod-- as/IN\n",
            "as/IN <--cc-- audience/NN\n",
            "younger/JJR <--amod-- readers/NNS\n",
            "readers/NNS <--conj-- audience/NN\n",
            "and/CC <--cc-- attracted/VBN\n",
            "are/VBP <--auxpass-- considered/VBN\n",
            "often/RB <--advmod-- considered/VBN\n",
            "considered/VBN <--conj-- attracted/VBN\n",
            "cornerstones/NNS <--oprd-- considered/VBN\n",
            "of/IN <--prep-- cornerstones/NNS\n",
            "modern/JJ <--amod-- literature/NN\n",
            "young/JJ <--amod-- literature/NN\n",
            "adult/NN <--compound-- literature/NN\n",
            "literature/NN <--pobj-- of/IN\n",
            "./. <--punct-- attracted/VBN\n",
            "As/IN <--prep-- sold/VBN\n",
            "of/IN <--prep-- As/IN\n",
            "February/NNP <--pobj-- of/IN\n",
            "2018/CD <--nummod-- February/NNP\n",
            ",/, <--punct-- sold/VBN\n",
            "the/DT <--det-- books/NNS\n",
            "books/NNS <--nsubj-- sold/VBN\n",
            "have/VBP <--aux-- sold/VBN\n",
            "sold/VBN <--ROOT-- sold/VBN\n",
            "more/JJR <--amod-- million/CD\n",
            "than/IN <--quantmod-- million/CD\n",
            "500/CD <--compound-- million/CD\n",
            "million/CD <--nummod-- copies/NNS\n",
            "copies/NNS <--dobj-- sold/VBN\n",
            "worldwide/RB <--advmod-- sold/VBN\n",
            ",/, <--punct-- sold/VBN\n",
            "making/VBG <--advcl-- sold/VBN\n",
            "them/PRP <--nsubj-- series/NN\n",
            "the/DT <--det-- series/NN\n",
            "best/RBS <--advmod-- selling/VBG\n",
            "-/HYPH <--punct-- selling/VBG\n",
            "selling/VBG <--amod-- series/NN\n",
            "book/NN <--compound-- series/NN\n",
            "series/NN <--ccomp-- making/VBG\n",
            "in/IN <--prep-- series/NN\n",
            "history/NN <--pobj-- in/IN\n",
            ",/, <--punct-- making/VBG\n",
            "and/CC <--cc-- making/VBG\n",
            "have/VBP <--aux-- translated/VBN\n",
            "been/VBN <--auxpass-- translated/VBN\n",
            "translated/VBN <--conj-- making/VBG\n",
            "into/IN <--prep-- translated/VBN\n",
            "eighty/CD <--pobj-- into/IN\n",
            "languages.[3/NNP <--punct-- translated/VBN\n",
            "]/-RRB- <--punct-- translated/VBN\n",
            "The/DT <--det-- books/NNS\n",
            "last/JJ <--amod-- books/NNS\n",
            "four/CD <--nummod-- books/NNS\n",
            "books/NNS <--nsubj-- set/VBN\n",
            "consecutively/RB <--advmod-- set/VBN\n",
            "set/VBN <--ROOT-- set/VBN\n",
            "records/NNS <--dobj-- set/VBN\n",
            "as/IN <--prep-- set/VBN\n",
            "the/DT <--det-- books/NNS\n",
            "fastest/RBS <--advmod-- selling/VBG\n",
            "-/HYPH <--punct-- selling/VBG\n",
            "selling/VBG <--amod-- books/NNS\n",
            "books/NNS <--pobj-- as/IN\n",
            "in/IN <--prep-- books/NNS\n",
            "history/NN <--pobj-- in/IN\n",
            ",/, <--punct-- set/VBN\n",
            "with/IN <--prep-- set/VBN\n",
            "the/DT <--det-- instalment/NN\n",
            "final/JJ <--amod-- instalment/NN\n",
            "instalment/NN <--nsubj-- selling/NN\n",
            "selling/NN <--pcomp-- with/IN\n",
            "roughly/RB <--advmod-- million/CD\n",
            "eleven/CD <--compound-- million/CD\n",
            "million/CD <--nummod-- copies/NNS\n",
            "copies/NNS <--dobj-- selling/NN\n",
            "in/IN <--prep-- copies/NNS\n",
            "the/DT <--det-- States/NNP\n",
            "United/NNP <--compound-- States/NNP\n",
            "States/NNP <--pobj-- in/IN\n",
            "within/IN <--prep-- selling/NN\n",
            "twenty/CD <--compound-- four/CD\n",
            "-/HYPH <--punct-- four/CD\n",
            "four/CD <--nummod-- hours/NNS\n",
            "hours/NNS <--pobj-- within/IN\n",
            "of/IN <--prep-- hours/NNS\n",
            "its/PRP$ <--poss-- release/NN\n",
            "release/NN <--pobj-- of/IN\n",
            "./. <--punct-- set/VBN\n"
          ],
          "name": "stdout"
        }
      ]
    },
    {
      "cell_type": "code",
      "metadata": {
        "id": "3_bYtS05_Lga",
        "colab_type": "code",
        "outputId": "ce4986cf-e9c4-4525-ed3c-81c2abeb203d",
        "colab": {
          "base_uri": "https://localhost:8080/",
          "height": 35
        }
      },
      "source": [
        "spacy.explain(\"NNP\")"
      ],
      "execution_count": 29,
      "outputs": [
        {
          "output_type": "execute_result",
          "data": {
            "text/plain": [
              "'noun, proper singular'"
            ]
          },
          "metadata": {
            "tags": []
          },
          "execution_count": 29
        }
      ]
    },
    {
      "cell_type": "code",
      "metadata": {
        "colab_type": "code",
        "outputId": "b8f223ea-0aca-4c95-b3dc-94b771005ea1",
        "id": "Az8vX-psrEKR",
        "colab": {
          "base_uri": "https://localhost:8080/",
          "height": 1000
        }
      },
      "source": [
        "doc = nlp(input_text)\n",
        "\n",
        "t = PrettyTable(['text', 'token.head.text','token.head.tag_','child','pos_','tag_','dep_','shape_',])\n",
        " \n",
        "for token in doc:\n",
        "  child =  ([child for child in token.children])\n",
        "  t.add_row([token.text,token.head.text, spacy.explain(token.head.tag_), str(child), spacy.explain(token.pos_),spacy.explain(token.tag_) ,spacy.explain(token.dep_) ,\n",
        "          spacy.explain(token.shape_)])\n",
        " \n",
        "print(t)"
      ],
      "execution_count": 41,
      "outputs": [
        {
          "output_type": "stream",
          "text": [
            "+---------------+-----------------+-------------------------------------------+----------------------------------------------------+--------------------------+-------------------------------------------+----------------------------------------------+-----------------------------------+\n",
            "|      text     | token.head.text |              token.head.tag_              |                       child                        |           pos_           |                    tag_                   |                     dep_                     |               shape_              |\n",
            "+---------------+-----------------+-------------------------------------------+----------------------------------------------------+--------------------------+-------------------------------------------+----------------------------------------------+-----------------------------------+\n",
            "|     Harry     |      Potter     |           noun, proper singular           |                         []                         |       proper noun        |           noun, proper singular           |                   compound                   |                None               |\n",
            "|     Potter    |        is       |     verb, 3rd person singular present     |                      [Harry]                       |       proper noun        |           noun, proper singular           |               nominal subject                |                None               |\n",
            "|       is      |        is       |     verb, 3rd person singular present     |                [Potter, series, .]                 |           verb           |     verb, 3rd person singular present     |                     None                     |                None               |\n",
            "|       a       |      series     |           noun, singular or mass          |                         []                         |        determiner        |                 determiner                |                  determiner                  |                None               |\n",
            "|     series    |        is       |     verb, 3rd person singular present     |                      [a, of]                       |           noun           |           noun, singular or mass          |                  attribute                   |                None               |\n",
            "|       of      |      series     |           noun, singular or mass          |                      [novels]                      |        adposition        | conjunction, subordinating or preposition |            prepositional modifier            |                None               |\n",
            "|    fantasy    |      novels     |                noun, plural               |                         []                         |           noun           |           noun, singular or mass          |                   compound                   |                None               |\n",
            "|     novels    |        of       | conjunction, subordinating or preposition |                 [fantasy, written]                 |           noun           |                noun, plural               |            object of preposition             |                None               |\n",
            "|    written    |      novels     |                noun, plural               |                        [by]                        |           verb           |           verb, past participle           | clausal modifier of noun (adjectival clause) |                None               |\n",
            "|       by      |     written     |           verb, past participle           |                     [Rowling]                      |        adposition        | conjunction, subordinating or preposition |                    agent                     |                None               |\n",
            "|    British    |      author     |           noun, singular or mass          |                         []                         |        adjective         |                 adjective                 |             adjectival modifier              |                None               |\n",
            "|     author    |     Rowling     |           noun, proper singular           |                     [British]                      |           noun           |           noun, singular or mass          |                   compound                   |                None               |\n",
            "|       J.      |     Rowling     |           noun, proper singular           |                         []                         |       proper noun        |           noun, proper singular           |                   compound                   |                None               |\n",
            "|       K.      |     Rowling     |           noun, proper singular           |                         []                         |       proper noun        |           noun, proper singular           |                   compound                   |                None               |\n",
            "|    Rowling    |        by       | conjunction, subordinating or preposition |                  [author, J., K.]                  |       proper noun        |           noun, proper singular           |            object of preposition             |                None               |\n",
            "|       .       |        is       |     verb, 3rd person singular present     |                         []                         |       punctuation        |     punctuation mark, sentence closer     |                 punctuation                  | punctuation mark, sentence closer |\n",
            "|      The      |      novels     |                noun, plural               |                         []                         |        determiner        |                 determiner                |                  determiner                  |                None               |\n",
            "|     novels    |    chronicle    |           noun, singular or mass          |                       [The]                        |           noun           |                noun, plural               |               nominal subject                |                None               |\n",
            "|   chronicle   |    chronicle    |           noun, singular or mass          |                 [novels, lives, .]                 |           noun           |           noun, singular or mass          |                     None                     |                None               |\n",
            "|      the      |      lives      |                noun, plural               |                         []                         |        determiner        |                 determiner                |                  determiner                  |                None               |\n",
            "|     lives     |    chronicle    |           noun, singular or mass          |                     [the, of]                      |           noun           |                noun, plural               |                direct object                 |                None               |\n",
            "|       of      |      lives      |                noun, plural               |                      [wizard]                      |        adposition        | conjunction, subordinating or preposition |            prepositional modifier            |                None               |\n",
            "|       a       |      wizard     |           noun, singular or mass          |                         []                         |        determiner        |                 determiner                |                  determiner                  |                None               |\n",
            "|     young     |      wizard     |           noun, singular or mass          |                         []                         |        adjective         |                 adjective                 |             adjectival modifier              |                None               |\n",
            "|     wizard    |        of       | conjunction, subordinating or preposition |       [a, young, ,, Potter, ,, and, friends]       |           noun           |           noun, singular or mass          |            object of preposition             |                None               |\n",
            "|       ,       |      wizard     |           noun, singular or mass          |                         []                         |       punctuation        |          punctuation mark, comma          |                 punctuation                  |      punctuation mark, comma      |\n",
            "|     Harry     |      Potter     |           noun, proper singular           |                         []                         |       proper noun        |           noun, proper singular           |                   compound                   |                None               |\n",
            "|     Potter    |      wizard     |           noun, singular or mass          |                      [Harry]                       |       proper noun        |           noun, proper singular           |            appositional modifier             |                None               |\n",
            "|       ,       |      wizard     |           noun, singular or mass          |                         []                         |       punctuation        |          punctuation mark, comma          |                 punctuation                  |      punctuation mark, comma      |\n",
            "|      and      |      wizard     |           noun, singular or mass          |                         []                         | coordinating conjunction |         conjunction, coordinating         |           coordinating conjunction           |                None               |\n",
            "|      his      |     friends     |                noun, plural               |                         []                         |        determiner        |            pronoun, possessive            |             possession modifier              |                None               |\n",
            "|    friends    |      wizard     |           noun, singular or mass          |               [his, Granger, ,, are]               |           noun           |                noun, plural               |                   conjunct                   |                None               |\n",
            "|    Hermione   |     Granger     |           noun, proper singular           |                         []                         |       proper noun        |           noun, proper singular           |                   compound                   |                None               |\n",
            "|    Granger    |     friends     |                noun, plural               |              [Hermione, and, Weasley]              |       proper noun        |           noun, proper singular           |            appositional modifier             |                None               |\n",
            "|      and      |     Granger     |           noun, proper singular           |                         []                         | coordinating conjunction |         conjunction, coordinating         |           coordinating conjunction           |                None               |\n",
            "|      Ron      |     Weasley     |           noun, proper singular           |                         []                         |       proper noun        |           noun, proper singular           |                   compound                   |                None               |\n",
            "|    Weasley    |     Granger     |           noun, proper singular           |                       [Ron]                        |       proper noun        |           noun, proper singular           |                   conjunct                   |                None               |\n",
            "|       ,       |     friends     |                noun, plural               |                         []                         |       punctuation        |          punctuation mark, comma          |                 punctuation                  |      punctuation mark, comma      |\n",
            "|      all      |       are       |   verb, non-3rd person singular present   |                        [of]                        |        determiner        |                 determiner                |               nominal subject                |                None               |\n",
            "|       of      |       all       |                 determiner                |                       [whom]                       |        adposition        | conjunction, subordinating or preposition |            prepositional modifier            |                None               |\n",
            "|      whom     |        of       | conjunction, subordinating or preposition |                         []                         |         pronoun          |            wh-pronoun, personal           |            object of preposition             |                None               |\n",
            "|      are      |     friends     |                noun, plural               |                  [all, students]                   |           verb           |   verb, non-3rd person singular present   |           relative clause modifier           |                None               |\n",
            "|    students   |       are       |   verb, non-3rd person singular present   |                        [at]                        |           noun           |                noun, plural               |                  attribute                   |                None               |\n",
            "|       at      |     students    |                noun, plural               |                      [School]                      |        adposition        | conjunction, subordinating or preposition |            prepositional modifier            |                None               |\n",
            "|    Hogwarts   |      School     |           noun, proper singular           |                         []                         |       proper noun        |           noun, proper singular           |                   compound                   |                None               |\n",
            "|     School    |        at       | conjunction, subordinating or preposition |                   [Hogwarts, of]                   |       proper noun        |           noun, proper singular           |            object of preposition             |                None               |\n",
            "|       of      |      School     |           noun, proper singular           |                    [Witchcraft]                    |        adposition        | conjunction, subordinating or preposition |            prepositional modifier            |                None               |\n",
            "|   Witchcraft  |        of       | conjunction, subordinating or preposition |                  [and, Wizardry]                   |       proper noun        |           noun, proper singular           |            object of preposition             |                None               |\n",
            "|      and      |    Witchcraft   |           noun, proper singular           |                         []                         | coordinating conjunction |         conjunction, coordinating         |           coordinating conjunction           |                None               |\n",
            "|    Wizardry   |    Witchcraft   |           noun, proper singular           |                         []                         |       proper noun        |           noun, proper singular           |                   conjunct                   |                None               |\n",
            "|       .       |    chronicle    |           noun, singular or mass          |                         []                         |       punctuation        |     punctuation mark, sentence closer     |                 punctuation                  | punctuation mark, sentence closer |\n",
            "|      The      |       arc       |           noun, singular or mass          |                         []                         |        determiner        |                 determiner                |                  determiner                  |                None               |\n",
            "|      main     |       arc       |           noun, singular or mass          |                         []                         |        adjective         |                 adjective                 |             adjectival modifier              |                None               |\n",
            "|     story     |       arc       |           noun, singular or mass          |                         []                         |           noun           |           noun, singular or mass          |                   compound                   |                None               |\n",
            "|      arc      |     concerns    |     verb, 3rd person singular present     |                 [The, main, story]                 |           noun           |           noun, singular or mass          |               nominal subject                |                None               |\n",
            "|    concerns   |     concerns    |     verb, 3rd person singular present     |           [arc, struggle, overthrow, .]            |           verb           |     verb, 3rd person singular present     |                     None                     |                None               |\n",
            "|     Harry     |     struggle    |           noun, singular or mass          |                        ['s]                        |       proper noun        |           noun, proper singular           |             possession modifier              |                None               |\n",
            "|       's      |      Harry      |           noun, proper singular           |                         []                         |         particle         |             possessive ending             |                 case marking                 |                None               |\n",
            "|    struggle   |     concerns    |     verb, 3rd person singular present     |                  [Harry, against]                  |           noun           |           noun, singular or mass          |                direct object                 |                None               |\n",
            "|    against    |     struggle    |           noun, singular or mass          |                    [Voldemort]                     |        adposition        | conjunction, subordinating or preposition |            prepositional modifier            |                None               |\n",
            "|      Lord     |    Voldemort    |           noun, proper singular           |                         []                         |       proper noun        |           noun, proper singular           |                   compound                   |                None               |\n",
            "|   Voldemort   |     against     | conjunction, subordinating or preposition |                 [Lord, ,, wizard]                  |       proper noun        |           noun, proper singular           |            object of preposition             |                None               |\n",
            "|       ,       |    Voldemort    |           noun, proper singular           |                         []                         |       punctuation        |          punctuation mark, comma          |                 punctuation                  |      punctuation mark, comma      |\n",
            "|       a       |      wizard     |           noun, singular or mass          |                         []                         |        determiner        |                 determiner                |                  determiner                  |                None               |\n",
            "|      dark     |      wizard     |           noun, singular or mass          |                         []                         |        adjective         |                 adjective                 |             adjectival modifier              |                None               |\n",
            "|     wizard    |    Voldemort    |           noun, proper singular           |                 [a, dark, intends]                 |           noun           |           noun, singular or mass          |            appositional modifier             |                None               |\n",
            "|      who      |     intends     |     verb, 3rd person singular present     |                         []                         |         pronoun          |            wh-pronoun, personal           |               nominal subject                |                None               |\n",
            "|    intends    |      wizard     |           noun, singular or mass          |                   [who, become]                    |           verb           |     verb, 3rd person singular present     |           relative clause modifier           |                None               |\n",
            "|       to      |      become     |              verb, base form              |                         []                         |         particle         |               infinitival to              |                  auxiliary                   |                None               |\n",
            "|     become    |     intends     |     verb, 3rd person singular present     |                   [to, immortal]                   |           verb           |              verb, base form              |           open clausal complement            |                None               |\n",
            "|    immortal   |      become     |              verb, base form              |                         []                         |        adjective         |                 adjective                 |            adjectival complement             |                None               |\n",
            "|       ,       |    overthrow    |              verb, base form              |                         []                         |       punctuation        |          punctuation mark, comma          |                 punctuation                  |      punctuation mark, comma      |\n",
            "|   overthrow   |     concerns    |     verb, 3rd person singular present     |            [,, body, and, subjugate, )]            |           verb           |              verb, base form              |                   conjunct                   |                None               |\n",
            "|      the      |       body      |           noun, singular or mass          |                         []                         |        determiner        |                 determiner                |                  determiner                  |                None               |\n",
            "|     wizard    |       body      |           noun, singular or mass          |                         []                         |        adjective         |                 adjective                 |             adjectival modifier              |                None               |\n",
            "|   governing   |       body      |           noun, singular or mass          |                         []                         |           noun           |           noun, singular or mass          |             adjectival modifier              |                None               |\n",
            "|      body     |    overthrow    |              verb, base form              |          [the, wizard, governing, known]           |           noun           |           noun, singular or mass          |                direct object                 |                None               |\n",
            "|     known     |       body      |           noun, singular or mass          |                        [as]                        |           verb           |           verb, past participle           | clausal modifier of noun (adjectival clause) |                None               |\n",
            "|       as      |      known      |           verb, past participle           |                     [Ministry]                     |        adposition        | conjunction, subordinating or preposition |            prepositional modifier            |                None               |\n",
            "|      the      |     Ministry    |           noun, proper singular           |                         []                         |        determiner        |                 determiner                |                  determiner                  |                None               |\n",
            "|    Ministry   |        as       | conjunction, subordinating or preposition |                     [the, of]                      |       proper noun        |           noun, proper singular           |            object of preposition             |                None               |\n",
            "|       of      |     Ministry    |           noun, proper singular           |                      [Magic]                       |        adposition        | conjunction, subordinating or preposition |            prepositional modifier            |                None               |\n",
            "|     Magic     |        of       | conjunction, subordinating or preposition |                         []                         |       proper noun        |           noun, proper singular           |            object of preposition             |                None               |\n",
            "|      and      |    overthrow    |              verb, base form              |                         []                         | coordinating conjunction |         conjunction, coordinating         |           coordinating conjunction           |                None               |\n",
            "|   subjugate   |    overthrow    |              verb, base form              |                     [wizards]                      |           verb           |              verb, base form              |                   conjunct                   |                None               |\n",
            "|      all      |     wizards     |                noun, plural               |                         []                         |        determiner        |                 determiner                |                  determiner                  |                None               |\n",
            "|    wizards    |    subjugate    |              verb, base form              |                [all, and, Muggles]                 |           noun           |                noun, plural               |                direct object                 |                None               |\n",
            "|      and      |     wizards     |                noun, plural               |                         []                         | coordinating conjunction |         conjunction, coordinating         |           coordinating conjunction           |                None               |\n",
            "|    Muggles    |     wizards     |                noun, plural               |                      [people]                      |       proper noun        |            noun, proper plural            |                   conjunct                   |                None               |\n",
            "|       (       |      people     |                noun, plural               |                         []                         |       punctuation        |             left round bracket            |                 punctuation                  |                None               |\n",
            "|      non      |        -        |                 adjective                 |                         []                         |        adjective         |                 adjective                 |                     None                     |                None               |\n",
            "|       -       |     magical     |                 adjective                 |                       [non]                        |        adjective         |                 adjective                 |                     None                     |                None               |\n",
            "|    magical    |      people     |                noun, plural               |                        [-]                         |        adjective         |                 adjective                 |             adjectival modifier              |                None               |\n",
            "|     people    |     Muggles     |            noun, proper plural            |                    [(, magical]                    |           noun           |                noun, plural               |            appositional modifier             |                None               |\n",
            "|       )       |    overthrow    |              verb, base form              |                         []                         |       punctuation        |            right round bracket            |                 punctuation                  |                None               |\n",
            "|       .       |     concerns    |     verb, 3rd person singular present     |                         []                         |       punctuation        |     punctuation mark, sentence closer     |                 punctuation                  | punctuation mark, sentence closer |\n",
            "|     Since     |      found      |           verb, past participle           |                     [release]                      |        adposition        | conjunction, subordinating or preposition |            prepositional modifier            |                None               |\n",
            "|      the      |     release     |           noun, singular or mass          |                         []                         |        determiner        |                 determiner                |                  determiner                  |                None               |\n",
            "|    release    |      Since      | conjunction, subordinating or preposition |                     [the, of]                      |           noun           |           noun, singular or mass          |            object of preposition             |                None               |\n",
            "|       of      |     release     |           noun, singular or mass          |                      [novel]                       |        adposition        | conjunction, subordinating or preposition |            prepositional modifier            |                None               |\n",
            "|      the      |      novel      |           noun, singular or mass          |                         []                         |        determiner        |                 determiner                |                  determiner                  |                None               |\n",
            "|     first     |      novel      |           noun, singular or mass          |                         []                         |        adjective         |                 adjective                 |             adjectival modifier              |                None               |\n",
            "|     novel     |        of       | conjunction, subordinating or preposition |              [the, first, ,, Potter]               |           noun           |           noun, singular or mass          |            object of preposition             |                None               |\n",
            "|       ,       |      novel      |           noun, singular or mass          |                         []                         |       punctuation        |          punctuation mark, comma          |                 punctuation                  |      punctuation mark, comma      |\n",
            "|     Harry     |      Potter     |           noun, proper singular           |                         []                         |       proper noun        |           noun, proper singular           |                   compound                   |                None               |\n",
            "|     Potter    |      novel      |           noun, singular or mass          |                [Harry, and, Stone]                 |       proper noun        |           noun, proper singular           |            appositional modifier             |                None               |\n",
            "|      and      |      Potter     |           noun, proper singular           |                         []                         | coordinating conjunction |         conjunction, coordinating         |           coordinating conjunction           |                None               |\n",
            "|      the      |   Philosopher   |           noun, proper singular           |                         []                         |        determiner        |                 determiner                |                  determiner                  |                None               |\n",
            "|  Philosopher  |      Stone      |           noun, proper singular           |                     [the, 's]                      |       proper noun        |           noun, proper singular           |             possession modifier              |                None               |\n",
            "|       's      |   Philosopher   |           noun, proper singular           |                         []                         |         particle         |             possessive ending             |                 case marking                 |                None               |\n",
            "|     Stone     |      Potter     |           noun, proper singular           |                   [Philosopher]                    |       proper noun        |           noun, proper singular           |                   conjunct                   |                None               |\n",
            "|       ,       |      found      |           verb, past participle           |                         []                         |       punctuation        |          punctuation mark, comma          |                 punctuation                  |      punctuation mark, comma      |\n",
            "|       on      |      found      |           verb, past participle           |                       [June]                       |        adposition        | conjunction, subordinating or preposition |            prepositional modifier            |                None               |\n",
            "|       26      |       June      |           noun, proper singular           |                         []                         |         numeral          |              cardinal number              |               numeric modifier               |                None               |\n",
            "|      June     |        on       | conjunction, subordinating or preposition |                     [26, 1997]                     |       proper noun        |           noun, proper singular           |            object of preposition             |                None               |\n",
            "|      1997     |       June      |           noun, proper singular           |                         []                         |         numeral          |              cardinal number              |               numeric modifier               |                None               |\n",
            "|       ,       |      found      |           verb, past participle           |                         []                         |       punctuation        |          punctuation mark, comma          |                 punctuation                  |      punctuation mark, comma      |\n",
            "|      the      |      books      |                noun, plural               |                         []                         |        determiner        |                 determiner                |                  determiner                  |                None               |\n",
            "|     books     |      found      |           verb, past participle           |                       [the]                        |           noun           |                noun, plural               |               nominal subject                |                None               |\n",
            "|      have     |      found      |           verb, past participle           |                         []                         |           verb           |   verb, non-3rd person singular present   |                  auxiliary                   |                None               |\n",
            "|     found     |      found      |           verb, past participle           |   [Since, ,, on, ,, books, have, popularity, .]    |           verb           |           verb, past participle           |                     None                     |                None               |\n",
            "|    immense    |    popularity   |           noun, singular or mass          |                         []                         |        adjective         |                 adjective                 |             adjectival modifier              |                None               |\n",
            "|   popularity  |      found      |           verb, past participle           |          [immense, ,, acclaim, worldwide]          |           noun           |           noun, singular or mass          |                direct object                 |                None               |\n",
            "|       ,       |    popularity   |           noun, singular or mass          |                         []                         |       punctuation        |          punctuation mark, comma          |                 punctuation                  |      punctuation mark, comma      |\n",
            "|    critical   |     acclaim     |           noun, singular or mass          |                         []                         |        adjective         |                 adjective                 |             adjectival modifier              |                None               |\n",
            "|    acclaim    |    popularity   |           noun, singular or mass          |              [critical, and, success]              |           noun           |           noun, singular or mass          |                   conjunct                   |                None               |\n",
            "|      and      |     acclaim     |           noun, singular or mass          |                         []                         | coordinating conjunction |         conjunction, coordinating         |           coordinating conjunction           |                None               |\n",
            "|   commercial  |     success     |           noun, singular or mass          |                         []                         |        adjective         |                 adjective                 |             adjectival modifier              |                None               |\n",
            "|    success    |     acclaim     |           noun, singular or mass          |                    [commercial]                    |           noun           |           noun, singular or mass          |                   conjunct                   |                None               |\n",
            "|   worldwide   |    popularity   |           noun, singular or mass          |                         []                         |          adverb          |                   adverb                  |              adverbial modifier              |                None               |\n",
            "|       .       |      found      |           verb, past participle           |                         []                         |       punctuation        |     punctuation mark, sentence closer     |                 punctuation                  | punctuation mark, sentence closer |\n",
            "|      They     |    attracted    |           verb, past participle           |                         []                         |         pronoun          |             pronoun, personal             |               nominal subject                |                None               |\n",
            "|      have     |    attracted    |           verb, past participle           |                         []                         |           verb           |   verb, non-3rd person singular present   |                  auxiliary                   |                None               |\n",
            "|   attracted   |    attracted    |           verb, past participle           |     [They, have, audience, and, considered, .]     |           verb           |           verb, past participle           |                     None                     |                None               |\n",
            "|       a       |     audience    |           noun, singular or mass          |                         []                         |        determiner        |                 determiner                |                  determiner                  |                None               |\n",
            "|      wide     |     audience    |           noun, singular or mass          |                         []                         |        adjective         |                 adjective                 |             adjectival modifier              |                None               |\n",
            "|     adult     |     audience    |           noun, singular or mass          |                         []                         |           noun           |           noun, singular or mass          |                   compound                   |                None               |\n",
            "|    audience   |    attracted    |           verb, past participle           |           [a, wide, adult, as, readers]            |           noun           |           noun, singular or mass          |                direct object                 |                None               |\n",
            "|       as      |        as       | conjunction, subordinating or preposition |                         []                         |          adverb          |                   adverb                  |              adverbial modifier              |                None               |\n",
            "|      well     |        as       | conjunction, subordinating or preposition |                         []                         |          adverb          |                   adverb                  |              adverbial modifier              |                None               |\n",
            "|       as      |     audience    |           noun, singular or mass          |                     [as, well]                     |        adposition        | conjunction, subordinating or preposition |           coordinating conjunction           |                None               |\n",
            "|    younger    |     readers     |                noun, plural               |                         []                         |        adjective         |           adjective, comparative          |             adjectival modifier              |                None               |\n",
            "|    readers    |     audience    |           noun, singular or mass          |                     [younger]                      |           noun           |                noun, plural               |                   conjunct                   |                None               |\n",
            "|      and      |    attracted    |           verb, past participle           |                         []                         | coordinating conjunction |         conjunction, coordinating         |           coordinating conjunction           |                None               |\n",
            "|      are      |    considered   |           verb, past participle           |                         []                         |           verb           |   verb, non-3rd person singular present   |             auxiliary (passive)              |                None               |\n",
            "|     often     |    considered   |           verb, past participle           |                         []                         |          adverb          |                   adverb                  |              adverbial modifier              |                None               |\n",
            "|   considered  |    attracted    |           verb, past participle           |             [are, often, cornerstones]             |           verb           |           verb, past participle           |                   conjunct                   |                None               |\n",
            "|  cornerstones |    considered   |           verb, past participle           |                        [of]                        |           noun           |                noun, plural               |               object predicate               |                None               |\n",
            "|       of      |   cornerstones  |                noun, plural               |                    [literature]                    |        adposition        | conjunction, subordinating or preposition |            prepositional modifier            |                None               |\n",
            "|     modern    |    literature   |           noun, singular or mass          |                         []                         |        adjective         |                 adjective                 |             adjectival modifier              |                None               |\n",
            "|     young     |    literature   |           noun, singular or mass          |                         []                         |        adjective         |                 adjective                 |             adjectival modifier              |                None               |\n",
            "|     adult     |    literature   |           noun, singular or mass          |                         []                         |           noun           |           noun, singular or mass          |                   compound                   |                None               |\n",
            "|   literature  |        of       | conjunction, subordinating or preposition |               [modern, young, adult]               |           noun           |           noun, singular or mass          |            object of preposition             |                None               |\n",
            "|       .       |    attracted    |           verb, past participle           |                         []                         |       punctuation        |     punctuation mark, sentence closer     |                 punctuation                  | punctuation mark, sentence closer |\n",
            "|       As      |       sold      |           verb, past participle           |                        [of]                        |        adposition        | conjunction, subordinating or preposition |            prepositional modifier            |                None               |\n",
            "|       of      |        As       | conjunction, subordinating or preposition |                     [February]                     |        adposition        | conjunction, subordinating or preposition |            prepositional modifier            |                None               |\n",
            "|    February   |        of       | conjunction, subordinating or preposition |                       [2018]                       |       proper noun        |           noun, proper singular           |            object of preposition             |                None               |\n",
            "|      2018     |     February    |           noun, proper singular           |                         []                         |         numeral          |              cardinal number              |               numeric modifier               |                None               |\n",
            "|       ,       |       sold      |           verb, past participle           |                         []                         |       punctuation        |          punctuation mark, comma          |                 punctuation                  |      punctuation mark, comma      |\n",
            "|      the      |      books      |                noun, plural               |                         []                         |        determiner        |                 determiner                |                  determiner                  |                None               |\n",
            "|     books     |       sold      |           verb, past participle           |                       [the]                        |           noun           |                noun, plural               |               nominal subject                |                None               |\n",
            "|      have     |       sold      |           verb, past participle           |                         []                         |           verb           |   verb, non-3rd person singular present   |                  auxiliary                   |                None               |\n",
            "|      sold     |       sold      |           verb, past participle           | [As, ,, books, have, copies, worldwide, ,, making] |           verb           |           verb, past participle           |                     None                     |                None               |\n",
            "|      more     |     million     |              cardinal number              |                         []                         |        adjective         |           adjective, comparative          |             adjectival modifier              |                None               |\n",
            "|      than     |     million     |              cardinal number              |                         []                         |        adposition        | conjunction, subordinating or preposition |            modifier of quantifier            |                None               |\n",
            "|      500      |     million     |              cardinal number              |                         []                         |         numeral          |              cardinal number              |                   compound                   |                None               |\n",
            "|    million    |      copies     |                noun, plural               |                 [more, than, 500]                  |         numeral          |              cardinal number              |               numeric modifier               |                None               |\n",
            "|     copies    |       sold      |           verb, past participle           |                     [million]                      |           noun           |                noun, plural               |                direct object                 |                None               |\n",
            "|   worldwide   |       sold      |           verb, past participle           |                         []                         |          adverb          |                   adverb                  |              adverbial modifier              |                None               |\n",
            "|       ,       |       sold      |           verb, past participle           |                         []                         |       punctuation        |          punctuation mark, comma          |                 punctuation                  |      punctuation mark, comma      |\n",
            "|     making    |       sold      |           verb, past participle           |            [series, ,, and, translated]            |           verb           |     verb, gerund or present participle    |          adverbial clause modifier           |                None               |\n",
            "|      them     |      series     |           noun, singular or mass          |                         []                         |         pronoun          |             pronoun, personal             |               nominal subject                |                None               |\n",
            "|      the      |      series     |           noun, singular or mass          |                         []                         |        determiner        |                 determiner                |                  determiner                  |                None               |\n",
            "|      best     |     selling     |     verb, gerund or present participle    |                         []                         |          adverb          |            adverb, superlative            |              adverbial modifier              |                None               |\n",
            "|       -       |     selling     |     verb, gerund or present participle    |                         []                         |       punctuation        |          punctuation mark, hyphen         |                 punctuation                  |                None               |\n",
            "|    selling    |      series     |           noun, singular or mass          |                     [best, -]                      |           verb           |     verb, gerund or present participle    |             adjectival modifier              |                None               |\n",
            "|      book     |      series     |           noun, singular or mass          |                         []                         |           noun           |           noun, singular or mass          |                   compound                   |                None               |\n",
            "|     series    |      making     |     verb, gerund or present participle    |           [them, the, selling, book, in]           |           noun           |           noun, singular or mass          |              clausal complement              |                None               |\n",
            "|       in      |      series     |           noun, singular or mass          |                     [history]                      |        adposition        | conjunction, subordinating or preposition |            prepositional modifier            |                None               |\n",
            "|    history    |        in       | conjunction, subordinating or preposition |                         []                         |           noun           |           noun, singular or mass          |            object of preposition             |                None               |\n",
            "|       ,       |      making     |     verb, gerund or present participle    |                         []                         |       punctuation        |          punctuation mark, comma          |                 punctuation                  |      punctuation mark, comma      |\n",
            "|      and      |      making     |     verb, gerund or present participle    |                         []                         | coordinating conjunction |         conjunction, coordinating         |           coordinating conjunction           |                None               |\n",
            "|      have     |    translated   |           verb, past participle           |                         []                         |           verb           |   verb, non-3rd person singular present   |                  auxiliary                   |                None               |\n",
            "|      been     |    translated   |           verb, past participle           |                         []                         |           verb           |           verb, past participle           |             auxiliary (passive)              |                None               |\n",
            "|   translated  |      making     |     verb, gerund or present participle    |        [have, been, into, languages.[3, ]]         |           verb           |           verb, past participle           |                   conjunct                   |                None               |\n",
            "|      into     |    translated   |           verb, past participle           |                      [eighty]                      |        adposition        | conjunction, subordinating or preposition |            prepositional modifier            |                None               |\n",
            "|     eighty    |       into      | conjunction, subordinating or preposition |                         []                         |         numeral          |              cardinal number              |            object of preposition             |                None               |\n",
            "|  languages.[3 |    translated   |           verb, past participle           |                         []                         |       proper noun        |           noun, proper singular           |                 punctuation                  |                None               |\n",
            "|       ]       |    translated   |           verb, past participle           |                         []                         |       punctuation        |            right round bracket            |                 punctuation                  |                None               |\n",
            "|      The      |      books      |                noun, plural               |                         []                         |        determiner        |                 determiner                |                  determiner                  |                None               |\n",
            "|      last     |      books      |                noun, plural               |                         []                         |        adjective         |                 adjective                 |             adjectival modifier              |                None               |\n",
            "|      four     |      books      |                noun, plural               |                         []                         |         numeral          |              cardinal number              |               numeric modifier               |                None               |\n",
            "|     books     |       set       |           verb, past participle           |                 [The, last, four]                  |           noun           |                noun, plural               |               nominal subject                |                None               |\n",
            "| consecutively |       set       |           verb, past participle           |                         []                         |          adverb          |                   adverb                  |              adverbial modifier              |                None               |\n",
            "|      set      |       set       |           verb, past participle           |  [books, consecutively, records, as, ,, with, .]   |           verb           |           verb, past participle           |                     None                     |                None               |\n",
            "|    records    |       set       |           verb, past participle           |                         []                         |           noun           |                noun, plural               |                direct object                 |                None               |\n",
            "|       as      |       set       |           verb, past participle           |                      [books]                       |        adposition        | conjunction, subordinating or preposition |            prepositional modifier            |                None               |\n",
            "|      the      |      books      |                noun, plural               |                         []                         |        determiner        |                 determiner                |                  determiner                  |                None               |\n",
            "|    fastest    |     selling     |     verb, gerund or present participle    |                         []                         |          adverb          |            adverb, superlative            |              adverbial modifier              |                None               |\n",
            "|       -       |     selling     |     verb, gerund or present participle    |                         []                         |       punctuation        |          punctuation mark, hyphen         |                 punctuation                  |                None               |\n",
            "|    selling    |      books      |                noun, plural               |                    [fastest, -]                    |           verb           |     verb, gerund or present participle    |             adjectival modifier              |                None               |\n",
            "|     books     |        as       | conjunction, subordinating or preposition |                 [the, selling, in]                 |           noun           |                noun, plural               |            object of preposition             |                None               |\n",
            "|       in      |      books      |                noun, plural               |                     [history]                      |        adposition        | conjunction, subordinating or preposition |            prepositional modifier            |                None               |\n",
            "|    history    |        in       | conjunction, subordinating or preposition |                         []                         |           noun           |           noun, singular or mass          |            object of preposition             |                None               |\n",
            "|       ,       |       set       |           verb, past participle           |                         []                         |       punctuation        |          punctuation mark, comma          |                 punctuation                  |      punctuation mark, comma      |\n",
            "|      with     |       set       |           verb, past participle           |                     [selling]                      |        adposition        | conjunction, subordinating or preposition |            prepositional modifier            |                None               |\n",
            "|      the      |    instalment   |           noun, singular or mass          |                         []                         |        determiner        |                 determiner                |                  determiner                  |                None               |\n",
            "|     final     |    instalment   |           noun, singular or mass          |                         []                         |        adjective         |                 adjective                 |             adjectival modifier              |                None               |\n",
            "|   instalment  |     selling     |           noun, singular or mass          |                    [the, final]                    |           noun           |           noun, singular or mass          |               nominal subject                |                None               |\n",
            "|    selling    |       with      | conjunction, subordinating or preposition |            [instalment, copies, within]            |           noun           |           noun, singular or mass          |          complement of preposition           |                None               |\n",
            "|    roughly    |     million     |              cardinal number              |                         []                         |          adverb          |                   adverb                  |              adverbial modifier              |                None               |\n",
            "|     eleven    |     million     |              cardinal number              |                         []                         |         numeral          |              cardinal number              |                   compound                   |                None               |\n",
            "|    million    |      copies     |                noun, plural               |                 [roughly, eleven]                  |         numeral          |              cardinal number              |               numeric modifier               |                None               |\n",
            "|     copies    |     selling     |           noun, singular or mass          |                   [million, in]                    |           noun           |                noun, plural               |                direct object                 |                None               |\n",
            "|       in      |      copies     |                noun, plural               |                      [States]                      |        adposition        | conjunction, subordinating or preposition |            prepositional modifier            |                None               |\n",
            "|      the      |      States     |           noun, proper singular           |                         []                         |        determiner        |                 determiner                |                  determiner                  |                None               |\n",
            "|     United    |      States     |           noun, proper singular           |                         []                         |       proper noun        |           noun, proper singular           |                   compound                   |                None               |\n",
            "|     States    |        in       | conjunction, subordinating or preposition |                   [the, United]                    |       proper noun        |           noun, proper singular           |            object of preposition             |                None               |\n",
            "|     within    |     selling     |           noun, singular or mass          |                      [hours]                       |        adposition        | conjunction, subordinating or preposition |            prepositional modifier            |                None               |\n",
            "|     twenty    |       four      |              cardinal number              |                         []                         |         numeral          |              cardinal number              |                   compound                   |                None               |\n",
            "|       -       |       four      |              cardinal number              |                         []                         |       punctuation        |          punctuation mark, hyphen         |                 punctuation                  |                None               |\n",
            "|      four     |      hours      |                noun, plural               |                    [twenty, -]                     |         numeral          |              cardinal number              |               numeric modifier               |                None               |\n",
            "|     hours     |      within     | conjunction, subordinating or preposition |                     [four, of]                     |           noun           |                noun, plural               |            object of preposition             |                None               |\n",
            "|       of      |      hours      |                noun, plural               |                     [release]                      |        adposition        | conjunction, subordinating or preposition |            prepositional modifier            |                None               |\n",
            "|      its      |     release     |           noun, singular or mass          |                         []                         |        determiner        |            pronoun, possessive            |             possession modifier              |                None               |\n",
            "|    release    |        of       | conjunction, subordinating or preposition |                       [its]                        |           noun           |           noun, singular or mass          |            object of preposition             |                None               |\n",
            "|       .       |       set       |           verb, past participle           |                         []                         |       punctuation        |     punctuation mark, sentence closer     |                 punctuation                  | punctuation mark, sentence closer |\n",
            "+---------------+-----------------+-------------------------------------------+----------------------------------------------------+--------------------------+-------------------------------------------+----------------------------------------------+-----------------------------------+\n"
          ],
          "name": "stdout"
        }
      ]
    },
    {
      "cell_type": "code",
      "metadata": {
        "colab_type": "code",
        "outputId": "46810305-02e3-403c-b3f4-6cb0dfcc794a",
        "id": "xpfWKgnkqaXN",
        "colab": {
          "base_uri": "https://localhost:8080/",
          "height": 381
        }
      },
      "source": [
        "for ent in doc.ents:\n",
        "    print(ent.text, ent.start_char, ent.end_char, ent.label_)"
      ],
      "execution_count": 42,
      "outputs": [
        {
          "output_type": "stream",
          "text": [
            "Harry Potter 0 12 PERSON\n",
            "British 54 61 NORP\n",
            "J. K. Rowling 69 82 PERSON\n",
            "Harry Potter 134 146 PERSON\n",
            "Hermione Granger 164 180 PERSON\n",
            "Ron Weasley 185 196 PERSON\n",
            "Hogwarts School of Witchcraft and Wizardry 226 268 ORG\n",
            "Harry 298 303 PERSON\n",
            "Lord Voldemort 323 337 ORG\n",
            "the Ministry of Magic 430 451 ORG\n",
            "Muggles 482 489 ORG\n",
            "first 537 542 ORDINAL\n",
            "Harry Potter 550 562 PERSON\n",
            "Philosopher 571 582 PERSON\n",
            "26 June 1997 595 607 DATE\n",
            "February 2018 848 861 DATE\n",
            "more than 500 million 883 904 CARDINAL\n",
            "four 1036 1040 CARDINAL\n",
            "roughly eleven million 1148 1170 CARDINAL\n",
            "the United States 1181 1198 GPE\n",
            "twenty-four hours 1206 1223 TIME\n"
          ],
          "name": "stdout"
        }
      ]
    },
    {
      "cell_type": "code",
      "metadata": {
        "id": "bcJY3ybppfC2",
        "colab_type": "code",
        "outputId": "99c349d7-7421-43c2-ecd4-02434f6d18c4",
        "colab": {
          "base_uri": "https://localhost:8080/",
          "height": 52
        }
      },
      "source": [
        "root = [token for token in doc if token.head == token][0]\n",
        "subject = list(root.lefts)[0]\n",
        "for descendant in subject.subtree:\n",
        "    assert subject is descendant or subject.is_ancestor(descendant)\n",
        "    print(descendant.text, descendant.dep_, descendant.n_lefts,\n",
        "            descendant.n_rights,\n",
        "            [ancestor.text for ancestor in descendant.ancestors])"
      ],
      "execution_count": 43,
      "outputs": [
        {
          "output_type": "stream",
          "text": [
            "Harry compound 0 0 ['Potter', 'is']\n",
            "Potter nsubj 1 0 ['is']\n"
          ],
          "name": "stdout"
        }
      ]
    },
    {
      "cell_type": "markdown",
      "metadata": {
        "id": "cdK63eRMww9D",
        "colab_type": "text"
      },
      "source": [
        "### **Sentiment**\n"
      ]
    },
    {
      "cell_type": "code",
      "metadata": {
        "id": "wt4TRaO2w871",
        "colab_type": "code",
        "outputId": "3d8f1248-805d-4587-e675-7a2fd9128955",
        "colab": {
          "base_uri": "https://localhost:8080/",
          "height": 55
        }
      },
      "source": [
        " tricky_sentences = [\n",
        "    \"i really liked the movie and had fun. Sentiment\",\n",
        "    \"VADER sentiment analysis is the shit.\",\n",
        "    \"Sentiment analysis has never been good.\",\n",
        "    \"Sentiment analysis with VADER has never been this good.\",\n",
        "    \"Warren Beatty has never been so entertaining.\",\n",
        "    \"I won't say that the movie is astounding and I wouldn't claim that \\\n",
        "    the movie is too banal either.\",\n",
        "    \"I like to hate Michael Bay films, but I couldn't fault this one\",\n",
        "    \"It's one thing to watch an Uwe Boll film, but another thing entirely \\\n",
        "    to pay for it\",\n",
        "    \"The movie was too good\",\n",
        "    \"This movie was actually neither that funny, nor super witty.\",\n",
        "    \"This movie doesn't care about cleverness, wit or any other kind of \\\n",
        "    intelligent humor.\",\n",
        "    \"Those who find ugly meanings in beautiful things are corrupt without \\\n",
        "    being charming.\",\n",
        "    \"There are slow and repetitive parts, BUT it has just enough spice to \\\n",
        "    keep it interesting.\",\n",
        "    \"The script is not fantastic, but the acting is decent and the cinematography \\\n",
        "    is EXCELLENT!\",\n",
        "    \"Roger Dodger is one of the most compelling variations on this theme.\",\n",
        "    \"Roger Dodger is one of the least compelling variations on this theme.\",\n",
        "    \"Roger Dodger is at least compelling as a variation on the theme.\",\n",
        "    \"they fall in love with the product\",\n",
        "    \"but then it breaks\",\n",
        "    \"usually around the time the 90 day warranty expires\",\n",
        "    \"this is  excellent\",\n",
        "    \"However, Mr. Carter solemnly argues, his client carried out the kidnapping \\\n",
        "    under orders and in the ''least offensive way possible.''\"\n",
        " ]\n",
        " \n",
        "sentiment_matrix =  []\n",
        "sid = SentimentIntensityAnalyzer()\n",
        " for sentence in tricky_sentences :\n",
        "     \n",
        "     sent = sid.polarity_scores(sentence)\n",
        "     if sent[\"compound\"] > 0.05 :\n",
        "       sentiment_matrix.append([sentence, \"pos\" ])\n",
        "     elif  -0.5 < sent[\"compound\"]  and sent[\"compound\"] < 0.05 :\n",
        "       sentiment_matrix.append([sentence, \"neg\" ])\n",
        "     else:\n",
        "        sentiment_matrix.append([sentence, \"\" ])\n",
        "\n",
        "print(sentiment_matrix)      "
      ],
      "execution_count": 44,
      "outputs": [
        {
          "output_type": "stream",
          "text": [
            "[['i really liked the movie and had fun. Sentiment', 'pos'], ['VADER sentiment analysis is the shit.', 'pos'], ['Sentiment analysis has never been good.', 'neg'], ['Sentiment analysis with VADER has never been this good.', 'pos'], ['Warren Beatty has never been so entertaining.', 'pos'], [\"I won't say that the movie is astounding and I wouldn't claim that    the movie is too banal either.\", 'pos'], [\"I like to hate Michael Bay films, but I couldn't fault this one\", 'pos'], [\"It's one thing to watch an Uwe Boll film, but another thing entirely    to pay for it\", 'neg'], ['The movie was too good', 'pos'], ['This movie was actually neither that funny, nor super witty.', ''], [\"This movie doesn't care about cleverness, wit or any other kind of    intelligent humor.\", 'neg'], ['Those who find ugly meanings in beautiful things are corrupt without    being charming.', 'neg'], ['There are slow and repetitive parts, BUT it has just enough spice to    keep it interesting.', 'pos'], ['The script is not fantastic, but the acting is decent and the cinematography    is EXCELLENT!', 'pos'], ['Roger Dodger is one of the most compelling variations on this theme.', 'pos'], ['Roger Dodger is one of the least compelling variations on this theme.', 'neg'], ['Roger Dodger is at least compelling as a variation on the theme.', 'pos'], ['they fall in love with the product', 'pos'], ['but then it breaks', 'neg'], ['usually around the time the 90 day warranty expires', 'neg'], ['this is  excellent', 'pos'], [\"However, Mr. Carter solemnly argues, his client carried out the kidnapping    under orders and in the ''least offensive way possible.''\", '']]\n"
          ],
          "name": "stdout"
        }
      ]
    },
    {
      "cell_type": "code",
      "metadata": {
        "id": "V8x_2kFgxZjl",
        "colab_type": "code",
        "outputId": "7bb29a02-cef4-4935-bb68-06023b7235f2",
        "colab": {
          "base_uri": "https://localhost:8080/",
          "height": 35
        }
      },
      "source": [
        " ss = sid.polarity_scores(\"I AM GOOD\")\n",
        " print(ss['compound'])"
      ],
      "execution_count": 45,
      "outputs": [
        {
          "output_type": "stream",
          "text": [
            "0.4404\n"
          ],
          "name": "stdout"
        }
      ]
    },
    {
      "cell_type": "markdown",
      "metadata": {
        "id": "pRLzfgCuM0Ts",
        "colab_type": "text"
      },
      "source": [
        "### **Keras**"
      ]
    },
    {
      "cell_type": "code",
      "metadata": {
        "id": "q4akxOA7M9jj",
        "colab_type": "code",
        "colab": {
          "base_uri": "https://localhost:8080/",
          "height": 35
        },
        "outputId": "709fe7aa-ee35-4539-d6ce-ec9b22be0867"
      },
      "source": [
        "docs = ['Gut gemacht',\n",
        "        'Gute arbeit',\n",
        "        'Super idee',\n",
        "        'Perfekt erledigt',\n",
        "        'exzellent',\n",
        "        'naja',\n",
        "        'Schwache arbeit.',\n",
        "        'Nicht gut',\n",
        "        'Miese arbeit.',\n",
        "        'Hätte es besser machen können.']\n",
        "# integer encode the documents\n",
        "vocab_size = 50\n",
        "encoded_docs = [one_hot(d, vocab_size) for d in docs]\n",
        "print(encoded_docs)"
      ],
      "execution_count": 47,
      "outputs": [
        {
          "output_type": "stream",
          "text": [
            "[[9, 23], [34, 38], [13, 35], [21, 10], [7], [48], [19, 38], [21, 9], [36, 38], [33, 30, 6, 8, 42]]\n"
          ],
          "name": "stdout"
        }
      ]
    },
    {
      "cell_type": "code",
      "metadata": {
        "id": "9--oVfoba2mQ",
        "colab_type": "code",
        "outputId": "e94a4ca2-646f-4e94-de55-27831e241f3c",
        "colab": {
          "base_uri": "https://localhost:8080/",
          "height": 52
        }
      },
      "source": [
        "from keras.preprocessing.text import Tokenizer\n",
        "\n",
        "def vocab_creater(text_lists, VOCAB_SIZE):\n",
        "\n",
        "  tokenizer = Tokenizer(num_words=VOCAB_SIZE)\n",
        "\n",
        "  #fit_on_texts - Updates internal vocabulary based on a list of texts.   This method creates the vocabulary index based on word frequency. \n",
        "  #               So if you give it something like, \"The cat sat on the mat.\" It will create a dictionary s.t.\n",
        "  #               word_index[\"the\"] = 1; word_index[\"cat\"] = 2 it is word -> index dictionary so every word gets a unique integer value. \n",
        "  #               0 is reserved for padding. So lower integer means more frequent word (as they appear a lot).\n",
        "  \n",
        "  #texts_to_sequences - Transforms each text in texts to a sequence of integers.\n",
        "  #                     So it basically takes each word in the text and replaces it with its corresponding integer value \n",
        "  #                     from the word_index dictionary. Nothing more, nothing less, certainly no magic involved.\n",
        "\n",
        "  tokenizer.fit_on_texts(text_lists)\n",
        "  dictionary = tokenizer.word_index\n",
        "  \n",
        "  word2idx = {}\n",
        "  idx2word = {}\n",
        "  for k, v in dictionary.items():\n",
        "      if v < VOCAB_SIZE:\n",
        "          word2idx[k] = v\n",
        "          idx2word[v] = k\n",
        "      if v >= VOCAB_SIZE-1:\n",
        "          continue\n",
        "          \n",
        "  return word2idx, idx2word\n",
        "\n",
        "# VOCAB_SIZE -> works on the frequescy of the word \n",
        "word2idx, idx2word = vocab_creater([\"I am sourav Kumar and I live in India\"], VOCAB_SIZE=14999)\n",
        "print(word2idx)\n",
        "print(idx2word)\n"
      ],
      "execution_count": 51,
      "outputs": [
        {
          "output_type": "stream",
          "text": [
            "{'i': 1, 'am': 2, 'sourav': 3, 'kumar': 4, 'and': 5, 'live': 6, 'in': 7, 'india': 8}\n",
            "{1: 'i', 2: 'am', 3: 'sourav', 4: 'kumar', 5: 'and', 6: 'live', 7: 'in', 8: 'india'}\n"
          ],
          "name": "stdout"
        }
      ]
    },
    {
      "cell_type": "markdown",
      "metadata": {
        "id": "a8FuwB_WyPfm",
        "colab_type": "text"
      },
      "source": [
        "### **References**"
      ]
    },
    {
      "cell_type": "markdown",
      "metadata": {
        "id": "OLirhSrmyb0c",
        "colab_type": "text"
      },
      "source": [
        "*   https://spacy.io/universe/project/adam_qas\n",
        "*   https://nlp.stanford.edu/IR-book/html/htmledition/stemming-and-lemmatization-1.html\n",
        "\n"
      ]
    }
  ]
}